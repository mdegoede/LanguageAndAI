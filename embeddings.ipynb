{
 "cells": [
  {
   "cell_type": "code",
   "execution_count": 33,
   "outputs": [],
   "source": [
    "import pandas as pd\n",
    "import fasttext\n",
    "import numpy as np\n",
    "from sklearn.utils import resample\n",
    "from sklearn.model_selection import train_test_split\n",
    "from sklearn.linear_model import LogisticRegression\n",
    "from sklearn.metrics import accuracy_score, classification_report\n",
    "from tqdm import tqdm\n",
    "import matplotlib.pyplot as plt\n",
    "import csv\n",
    "import ast\n",
    "import re"
   ],
   "metadata": {
    "collapsed": false,
    "pycharm": {
     "name": "#%%\n"
    }
   }
  },
  {
   "cell_type": "code",
   "execution_count": 2,
   "outputs": [
    {
     "name": "stderr",
     "output_type": "stream",
     "text": [
      "<ipython-input-2-e67fa423ed4e>:4: SettingWithCopyWarning: \n",
      "A value is trying to be set on a copy of a slice from a DataFrame.\n",
      "Try using .loc[row_indexer,col_indexer] = value instead\n",
      "\n",
      "See the caveats in the documentation: https://pandas.pydata.org/pandas-docs/stable/user_guide/indexing.html#returning-a-view-versus-a-copy\n",
      "  mil_and_genz['binary_birth_year'] = 1\n",
      "C:\\ProgramData\\Anaconda3\\lib\\site-packages\\pandas\\core\\indexing.py:1720: SettingWithCopyWarning: \n",
      "A value is trying to be set on a copy of a slice from a DataFrame.\n",
      "Try using .loc[row_indexer,col_indexer] = value instead\n",
      "\n",
      "See the caveats in the documentation: https://pandas.pydata.org/pandas-docs/stable/user_guide/indexing.html#returning-a-view-versus-a-copy\n",
      "  self._setitem_single_column(loc, value, pi)\n"
     ]
    },
    {
     "data": {
      "text/plain": "         auhtor_ID                                               post  \\\n0       t2_rnjzutp  Good on you for being responsible! I know self...   \n1       t2_rnjzutp  must go to the grocery store with their child,...   \n2       t2_rnjzutp  things on her videos, and YouTube took the vid...   \n3       t2_rnjzutp  their app. There's also a program called SYNC ...   \n4       t2_rnjzutp  side. If the cops don't take your side, you'll...   \n...            ...                                                ...   \n25450  t2_ef4dv976  clever political meme on a sub about political...   \n25451     t2_7ps3a  Kevin. Glück gehabt. I will try! Thank you! I ...   \n25452     t2_7ps3a  Handy/der Cloud speichern und in der Kamera ha...   \n25453     t2_7ps3a  that. :)) On Google I cant find much informati...   \n25454     t2_7ps3a  Liste eintragen lassen können, sobald sie vega...   \n\n       birth_year  binary_birth_year  \\\n0            2001                  0   \n1            2001                  0   \n2            2001                  0   \n3            2001                  0   \n4            2001                  0   \n...           ...                ...   \n25450        1989                  1   \n25451        1992                  1   \n25452        1992                  1   \n25453        1992                  1   \n25454        1992                  1   \n\n                                          post_tokenized  \n0      [Good, on, you, for, being, responsible, !, I,...  \n1      [must, go, to, the, grocery, store, with, thei...  \n2      [things, on, her, videos, ,, and, YouTube, too...  \n3      [their, app, ., There, ', s, also, a, program,...  \n4      [side, ., If, the, cops, don, ', t, take, your...  \n...                                                  ...  \n25450  [clever, political, meme, on, a, sub, about, p...  \n25451  [Kevin, ., Glück, gehabt, ., I, will, try, !, ...  \n25452  [Handy, /, der, Cloud, speichern, und, in, der...  \n25453  [that, ., :, ), ), On, Google, I, cant, find, ...  \n25454  [Liste, eintragen, lassen, können, ,, sobald, ...  \n\n[25455 rows x 5 columns]",
      "text/html": "<div>\n<style scoped>\n    .dataframe tbody tr th:only-of-type {\n        vertical-align: middle;\n    }\n\n    .dataframe tbody tr th {\n        vertical-align: top;\n    }\n\n    .dataframe thead th {\n        text-align: right;\n    }\n</style>\n<table border=\"1\" class=\"dataframe\">\n  <thead>\n    <tr style=\"text-align: right;\">\n      <th></th>\n      <th>auhtor_ID</th>\n      <th>post</th>\n      <th>birth_year</th>\n      <th>binary_birth_year</th>\n      <th>post_tokenized</th>\n    </tr>\n  </thead>\n  <tbody>\n    <tr>\n      <th>0</th>\n      <td>t2_rnjzutp</td>\n      <td>Good on you for being responsible! I know self...</td>\n      <td>2001</td>\n      <td>0</td>\n      <td>[Good, on, you, for, being, responsible, !, I,...</td>\n    </tr>\n    <tr>\n      <th>1</th>\n      <td>t2_rnjzutp</td>\n      <td>must go to the grocery store with their child,...</td>\n      <td>2001</td>\n      <td>0</td>\n      <td>[must, go, to, the, grocery, store, with, thei...</td>\n    </tr>\n    <tr>\n      <th>2</th>\n      <td>t2_rnjzutp</td>\n      <td>things on her videos, and YouTube took the vid...</td>\n      <td>2001</td>\n      <td>0</td>\n      <td>[things, on, her, videos, ,, and, YouTube, too...</td>\n    </tr>\n    <tr>\n      <th>3</th>\n      <td>t2_rnjzutp</td>\n      <td>their app. There's also a program called SYNC ...</td>\n      <td>2001</td>\n      <td>0</td>\n      <td>[their, app, ., There, ', s, also, a, program,...</td>\n    </tr>\n    <tr>\n      <th>4</th>\n      <td>t2_rnjzutp</td>\n      <td>side. If the cops don't take your side, you'll...</td>\n      <td>2001</td>\n      <td>0</td>\n      <td>[side, ., If, the, cops, don, ', t, take, your...</td>\n    </tr>\n    <tr>\n      <th>...</th>\n      <td>...</td>\n      <td>...</td>\n      <td>...</td>\n      <td>...</td>\n      <td>...</td>\n    </tr>\n    <tr>\n      <th>25450</th>\n      <td>t2_ef4dv976</td>\n      <td>clever political meme on a sub about political...</td>\n      <td>1989</td>\n      <td>1</td>\n      <td>[clever, political, meme, on, a, sub, about, p...</td>\n    </tr>\n    <tr>\n      <th>25451</th>\n      <td>t2_7ps3a</td>\n      <td>Kevin. Glück gehabt. I will try! Thank you! I ...</td>\n      <td>1992</td>\n      <td>1</td>\n      <td>[Kevin, ., Glück, gehabt, ., I, will, try, !, ...</td>\n    </tr>\n    <tr>\n      <th>25452</th>\n      <td>t2_7ps3a</td>\n      <td>Handy/der Cloud speichern und in der Kamera ha...</td>\n      <td>1992</td>\n      <td>1</td>\n      <td>[Handy, /, der, Cloud, speichern, und, in, der...</td>\n    </tr>\n    <tr>\n      <th>25453</th>\n      <td>t2_7ps3a</td>\n      <td>that. :)) On Google I cant find much informati...</td>\n      <td>1992</td>\n      <td>1</td>\n      <td>[that, ., :, ), ), On, Google, I, cant, find, ...</td>\n    </tr>\n    <tr>\n      <th>25454</th>\n      <td>t2_7ps3a</td>\n      <td>Liste eintragen lassen können, sobald sie vega...</td>\n      <td>1992</td>\n      <td>1</td>\n      <td>[Liste, eintragen, lassen, können, ,, sobald, ...</td>\n    </tr>\n  </tbody>\n</table>\n<p>25455 rows × 5 columns</p>\n</div>"
     },
     "execution_count": 2,
     "metadata": {},
     "output_type": "execute_result"
    }
   ],
   "source": [
    "# get the df with the posts, tokenized posts, birth years, and binary birth years\n",
    "df_birth_year = pd.read_csv('data/birth_year.csv')\n",
    "mil_and_genz = df_birth_year[(1986 < df_birth_year['birth_year']) & (df_birth_year['birth_year'] <= 2006)]\n",
    "mil_and_genz['binary_birth_year'] = 1\n",
    "mil_and_genz.loc[(1996 < mil_and_genz['birth_year']) & (mil_and_genz['birth_year'] <= 2006), 'binary_birth_year'] = 0\n",
    "mil_and_genz = mil_and_genz.reset_index(drop=True)\n",
    "mil_and_genz\n",
    "\n",
    "# underample the minority class\n",
    "undersampled_df = pd.concat([\n",
    "    resample(mil_and_genz[mil_and_genz['binary_birth_year'] == 1],\n",
    "             replace=False,\n",
    "             n_samples=len(mil_and_genz[mil_and_genz['binary_birth_year'] == 0]),\n",
    "             random_state=42),\n",
    "    mil_and_genz[mil_and_genz['binary_birth_year'] == 0]\n",
    "])\n",
    "\n",
    "# shuffle the dataframe\n",
    "undersampled_df = undersampled_df.sample(frac=1, random_state=42).reset_index(drop=True)\n",
    "\n",
    "undersampled_df\n",
    "\n",
    "# tokenization\n",
    "mil_and_genz['post_tokenized'] = mil_and_genz.post.str.findall('\\w+|[^\\w\\s]')\n",
    "mil_and_genz"
   ],
   "metadata": {
    "collapsed": false,
    "pycharm": {
     "name": "#%%\n"
    }
   }
  },
  {
   "cell_type": "code",
   "execution_count": 3,
   "outputs": [],
   "source": [
    "# concatenate all posts into a single string and save\n",
    "corpus = \" \".join([\" \".join(post) for post in mil_and_genz['post_tokenized']])\n",
    "with open(\"data/temp_corpus.txt\", \"w\", encoding=\"utf-8\") as file:\n",
    "    file.write(corpus)\n",
    "\n",
    "# fastText word embeddings\n",
    "model = fasttext.train_unsupervised(\"data/temp_corpus.txt\")\n",
    "model.save_model(\"result/trained_fasttext_embeddings.bin\")"
   ],
   "metadata": {
    "collapsed": false,
    "pycharm": {
     "name": "#%%\n"
    }
   }
  },
  {
   "cell_type": "code",
   "execution_count": 4,
   "outputs": [
    {
     "name": "stderr",
     "output_type": "stream",
     "text": [
      "Warning : `load_model` does not return WordVectorModel or SupervisedModel any more, but a `FastText` object which is very similar.\n"
     ]
    }
   ],
   "source": [
    "# load the trained model\n",
    "model = fasttext.load_model(\"result/trained_fasttext_embeddings.bin\")\n",
    "\n",
    "# get the average embedding for a post (document embedding)\n",
    "def get_average_embedding(tokens, model):\n",
    "    embeddings = [model.get_word_vector(word) for word in tokens if word in model.words]\n",
    "    if embeddings:\n",
    "        avg_embedding = np.mean(embeddings, axis=0)\n",
    "    else:\n",
    "        avg_embedding = np.zeros(model.get_dimension())  # Default to zero if no embeddings found\n",
    "    return avg_embedding\n",
    "\n",
    "mil_and_genz['doc_embedding'] = mil_and_genz['post_tokenized'].apply(lambda x: get_average_embedding(x, model))"
   ],
   "metadata": {
    "collapsed": false,
    "pycharm": {
     "name": "#%%\n"
    }
   }
  },
  {
   "cell_type": "markdown",
   "source": [
    "# averaging the document embeddings"
   ],
   "metadata": {
    "collapsed": false,
    "pycharm": {
     "name": "#%% md\n"
    }
   }
  },
  {
   "cell_type": "code",
   "execution_count": 36,
   "outputs": [],
   "source": [
    "def calculate_average(lst):\n",
    "    return sum(lst) / len(lst) if len(lst) > 0 else None\n",
    "\n",
    "# Apply the function to the specified column and create a new column with averages\n",
    "mil_and_genz['doc_embedding_average'] = mil_and_genz['doc_embedding'].apply(calculate_average)\n",
    "mil_and_genz.to_csv('data/mil_and_genz.csv', index=False)"
   ],
   "metadata": {
    "collapsed": false,
    "pycharm": {
     "name": "#%%\n"
    }
   }
  },
  {
   "cell_type": "code",
   "execution_count": 37,
   "outputs": [
    {
     "data": {
      "text/plain": "         auhtor_ID                                               post  \\\n0       t2_rnjzutp  Good on you for being responsible! I know self...   \n1       t2_rnjzutp  must go to the grocery store with their child,...   \n2       t2_rnjzutp  things on her videos, and YouTube took the vid...   \n3       t2_rnjzutp  their app. There's also a program called SYNC ...   \n4       t2_rnjzutp  side. If the cops don't take your side, you'll...   \n...            ...                                                ...   \n25450  t2_ef4dv976  clever political meme on a sub about political...   \n25451     t2_7ps3a  Kevin. Glück gehabt. I will try! Thank you! I ...   \n25452     t2_7ps3a  Handy/der Cloud speichern und in der Kamera ha...   \n25453     t2_7ps3a  that. :)) On Google I cant find much informati...   \n25454     t2_7ps3a  Liste eintragen lassen können, sobald sie vega...   \n\n       birth_year  binary_birth_year  \\\n0            2001                  0   \n1            2001                  0   \n2            2001                  0   \n3            2001                  0   \n4            2001                  0   \n...           ...                ...   \n25450        1989                  1   \n25451        1992                  1   \n25452        1992                  1   \n25453        1992                  1   \n25454        1992                  1   \n\n                                          post_tokenized  \\\n0      [Good, on, you, for, being, responsible, !, I,...   \n1      [must, go, to, the, grocery, store, with, thei...   \n2      [things, on, her, videos, ,, and, YouTube, too...   \n3      [their, app, ., There, ', s, also, a, program,...   \n4      [side, ., If, the, cops, don, ', t, take, your...   \n...                                                  ...   \n25450  [clever, political, meme, on, a, sub, about, p...   \n25451  [Kevin, ., Glück, gehabt, ., I, will, try, !, ...   \n25452  [Handy, /, der, Cloud, speichern, und, in, der...   \n25453  [that, ., :, ), ), On, Google, I, cant, find, ...   \n25454  [Liste, eintragen, lassen, können, ,, sobald, ...   \n\n                                           doc_embedding  \\\n0      [0.077345595, -0.14746565, 0.26790008, 0.31544...   \n1      [0.057216443, -0.12836617, 0.25229907, 0.32476...   \n2      [0.06751289, -0.11984211, 0.2425011, 0.3101618...   \n3      [0.059638795, -0.114736974, 0.23432401, 0.3349...   \n4      [0.06526452, -0.09764939, 0.2473862, 0.3262983...   \n...                                                  ...   \n25450  [0.073144875, -0.124933265, 0.2885858, 0.30519...   \n25451  [0.09270658, 0.069318876, 0.06377351, 0.368193...   \n25452  [0.08413791, 0.08132758, 0.046772774, 0.379053...   \n25453  [0.11956645, 0.18445647, -0.063145295, 0.37309...   \n25454  [0.11624739, 0.2334154, -0.08899039, 0.4099715...   \n\n       doc_embedding_average  doc_length  \n0                   0.017216        1550  \n1                   0.016122        1560  \n2                   0.016001        1542  \n3                   0.016488        1567  \n4                   0.016004        1552  \n...                      ...         ...  \n25450               0.017437        1074  \n25451               0.021317        1484  \n25452               0.022058        1490  \n25453               0.027131        1504  \n25454               0.028553         943  \n\n[25455 rows x 8 columns]",
      "text/html": "<div>\n<style scoped>\n    .dataframe tbody tr th:only-of-type {\n        vertical-align: middle;\n    }\n\n    .dataframe tbody tr th {\n        vertical-align: top;\n    }\n\n    .dataframe thead th {\n        text-align: right;\n    }\n</style>\n<table border=\"1\" class=\"dataframe\">\n  <thead>\n    <tr style=\"text-align: right;\">\n      <th></th>\n      <th>auhtor_ID</th>\n      <th>post</th>\n      <th>birth_year</th>\n      <th>binary_birth_year</th>\n      <th>post_tokenized</th>\n      <th>doc_embedding</th>\n      <th>doc_embedding_average</th>\n      <th>doc_length</th>\n    </tr>\n  </thead>\n  <tbody>\n    <tr>\n      <th>0</th>\n      <td>t2_rnjzutp</td>\n      <td>Good on you for being responsible! I know self...</td>\n      <td>2001</td>\n      <td>0</td>\n      <td>[Good, on, you, for, being, responsible, !, I,...</td>\n      <td>[0.077345595, -0.14746565, 0.26790008, 0.31544...</td>\n      <td>0.017216</td>\n      <td>1550</td>\n    </tr>\n    <tr>\n      <th>1</th>\n      <td>t2_rnjzutp</td>\n      <td>must go to the grocery store with their child,...</td>\n      <td>2001</td>\n      <td>0</td>\n      <td>[must, go, to, the, grocery, store, with, thei...</td>\n      <td>[0.057216443, -0.12836617, 0.25229907, 0.32476...</td>\n      <td>0.016122</td>\n      <td>1560</td>\n    </tr>\n    <tr>\n      <th>2</th>\n      <td>t2_rnjzutp</td>\n      <td>things on her videos, and YouTube took the vid...</td>\n      <td>2001</td>\n      <td>0</td>\n      <td>[things, on, her, videos, ,, and, YouTube, too...</td>\n      <td>[0.06751289, -0.11984211, 0.2425011, 0.3101618...</td>\n      <td>0.016001</td>\n      <td>1542</td>\n    </tr>\n    <tr>\n      <th>3</th>\n      <td>t2_rnjzutp</td>\n      <td>their app. There's also a program called SYNC ...</td>\n      <td>2001</td>\n      <td>0</td>\n      <td>[their, app, ., There, ', s, also, a, program,...</td>\n      <td>[0.059638795, -0.114736974, 0.23432401, 0.3349...</td>\n      <td>0.016488</td>\n      <td>1567</td>\n    </tr>\n    <tr>\n      <th>4</th>\n      <td>t2_rnjzutp</td>\n      <td>side. If the cops don't take your side, you'll...</td>\n      <td>2001</td>\n      <td>0</td>\n      <td>[side, ., If, the, cops, don, ', t, take, your...</td>\n      <td>[0.06526452, -0.09764939, 0.2473862, 0.3262983...</td>\n      <td>0.016004</td>\n      <td>1552</td>\n    </tr>\n    <tr>\n      <th>...</th>\n      <td>...</td>\n      <td>...</td>\n      <td>...</td>\n      <td>...</td>\n      <td>...</td>\n      <td>...</td>\n      <td>...</td>\n      <td>...</td>\n    </tr>\n    <tr>\n      <th>25450</th>\n      <td>t2_ef4dv976</td>\n      <td>clever political meme on a sub about political...</td>\n      <td>1989</td>\n      <td>1</td>\n      <td>[clever, political, meme, on, a, sub, about, p...</td>\n      <td>[0.073144875, -0.124933265, 0.2885858, 0.30519...</td>\n      <td>0.017437</td>\n      <td>1074</td>\n    </tr>\n    <tr>\n      <th>25451</th>\n      <td>t2_7ps3a</td>\n      <td>Kevin. Glück gehabt. I will try! Thank you! I ...</td>\n      <td>1992</td>\n      <td>1</td>\n      <td>[Kevin, ., Glück, gehabt, ., I, will, try, !, ...</td>\n      <td>[0.09270658, 0.069318876, 0.06377351, 0.368193...</td>\n      <td>0.021317</td>\n      <td>1484</td>\n    </tr>\n    <tr>\n      <th>25452</th>\n      <td>t2_7ps3a</td>\n      <td>Handy/der Cloud speichern und in der Kamera ha...</td>\n      <td>1992</td>\n      <td>1</td>\n      <td>[Handy, /, der, Cloud, speichern, und, in, der...</td>\n      <td>[0.08413791, 0.08132758, 0.046772774, 0.379053...</td>\n      <td>0.022058</td>\n      <td>1490</td>\n    </tr>\n    <tr>\n      <th>25453</th>\n      <td>t2_7ps3a</td>\n      <td>that. :)) On Google I cant find much informati...</td>\n      <td>1992</td>\n      <td>1</td>\n      <td>[that, ., :, ), ), On, Google, I, cant, find, ...</td>\n      <td>[0.11956645, 0.18445647, -0.063145295, 0.37309...</td>\n      <td>0.027131</td>\n      <td>1504</td>\n    </tr>\n    <tr>\n      <th>25454</th>\n      <td>t2_7ps3a</td>\n      <td>Liste eintragen lassen können, sobald sie vega...</td>\n      <td>1992</td>\n      <td>1</td>\n      <td>[Liste, eintragen, lassen, können, ,, sobald, ...</td>\n      <td>[0.11624739, 0.2334154, -0.08899039, 0.4099715...</td>\n      <td>0.028553</td>\n      <td>943</td>\n    </tr>\n  </tbody>\n</table>\n<p>25455 rows × 8 columns</p>\n</div>"
     },
     "execution_count": 37,
     "metadata": {},
     "output_type": "execute_result"
    }
   ],
   "source": [
    "mil_and_genz"
   ],
   "metadata": {
    "collapsed": false,
    "pycharm": {
     "name": "#%%\n"
    }
   }
  },
  {
   "cell_type": "markdown",
   "source": [
    "# adding doc length, should be removed later"
   ],
   "metadata": {
    "collapsed": false,
    "pycharm": {
     "name": "#%% md\n"
    }
   }
  },
  {
   "cell_type": "code",
   "execution_count": 11,
   "outputs": [
    {
     "data": {
      "text/plain": "         auhtor_ID                                               post  \\\n0       t2_rnjzutp  Good on you for being responsible! I know self...   \n1       t2_rnjzutp  must go to the grocery store with their child,...   \n2       t2_rnjzutp  things on her videos, and YouTube took the vid...   \n3       t2_rnjzutp  their app. There's also a program called SYNC ...   \n4       t2_rnjzutp  side. If the cops don't take your side, you'll...   \n...            ...                                                ...   \n25450  t2_ef4dv976  clever political meme on a sub about political...   \n25451     t2_7ps3a  Kevin. Glück gehabt. I will try! Thank you! I ...   \n25452     t2_7ps3a  Handy/der Cloud speichern und in der Kamera ha...   \n25453     t2_7ps3a  that. :)) On Google I cant find much informati...   \n25454     t2_7ps3a  Liste eintragen lassen können, sobald sie vega...   \n\n       birth_year  binary_birth_year  \\\n0            2001                  0   \n1            2001                  0   \n2            2001                  0   \n3            2001                  0   \n4            2001                  0   \n...           ...                ...   \n25450        1989                  1   \n25451        1992                  1   \n25452        1992                  1   \n25453        1992                  1   \n25454        1992                  1   \n\n                                          post_tokenized  \\\n0      [Good, on, you, for, being, responsible, !, I,...   \n1      [must, go, to, the, grocery, store, with, thei...   \n2      [things, on, her, videos, ,, and, YouTube, too...   \n3      [their, app, ., There, ', s, also, a, program,...   \n4      [side, ., If, the, cops, don, ', t, take, your...   \n...                                                  ...   \n25450  [clever, political, meme, on, a, sub, about, p...   \n25451  [Kevin, ., Glück, gehabt, ., I, will, try, !, ...   \n25452  [Handy, /, der, Cloud, speichern, und, in, der...   \n25453  [that, ., :, ), ), On, Google, I, cant, find, ...   \n25454  [Liste, eintragen, lassen, können, ,, sobald, ...   \n\n                                           doc_embedding  \\\n0      [0.077345595, -0.14746565, 0.26790008, 0.31544...   \n1      [0.057216443, -0.12836617, 0.25229907, 0.32476...   \n2      [0.06751289, -0.11984211, 0.2425011, 0.3101618...   \n3      [0.059638795, -0.114736974, 0.23432401, 0.3349...   \n4      [0.06526452, -0.09764939, 0.2473862, 0.3262983...   \n...                                                  ...   \n25450  [0.073144875, -0.124933265, 0.2885858, 0.30519...   \n25451  [0.09270658, 0.069318876, 0.06377351, 0.368193...   \n25452  [0.08413791, 0.08132758, 0.046772774, 0.379053...   \n25453  [0.11956645, 0.18445647, -0.063145295, 0.37309...   \n25454  [0.11624739, 0.2334154, -0.08899039, 0.4099715...   \n\n       doc_embedding_average  doc_length  \n0                   0.017216        1550  \n1                   0.016122        1560  \n2                   0.016001        1542  \n3                   0.016488        1567  \n4                   0.016004        1552  \n...                      ...         ...  \n25450               0.017437        1074  \n25451               0.021317        1484  \n25452               0.022058        1490  \n25453               0.027131        1504  \n25454               0.028553         943  \n\n[25455 rows x 8 columns]",
      "text/html": "<div>\n<style scoped>\n    .dataframe tbody tr th:only-of-type {\n        vertical-align: middle;\n    }\n\n    .dataframe tbody tr th {\n        vertical-align: top;\n    }\n\n    .dataframe thead th {\n        text-align: right;\n    }\n</style>\n<table border=\"1\" class=\"dataframe\">\n  <thead>\n    <tr style=\"text-align: right;\">\n      <th></th>\n      <th>auhtor_ID</th>\n      <th>post</th>\n      <th>birth_year</th>\n      <th>binary_birth_year</th>\n      <th>post_tokenized</th>\n      <th>doc_embedding</th>\n      <th>doc_embedding_average</th>\n      <th>doc_length</th>\n    </tr>\n  </thead>\n  <tbody>\n    <tr>\n      <th>0</th>\n      <td>t2_rnjzutp</td>\n      <td>Good on you for being responsible! I know self...</td>\n      <td>2001</td>\n      <td>0</td>\n      <td>[Good, on, you, for, being, responsible, !, I,...</td>\n      <td>[0.077345595, -0.14746565, 0.26790008, 0.31544...</td>\n      <td>0.017216</td>\n      <td>1550</td>\n    </tr>\n    <tr>\n      <th>1</th>\n      <td>t2_rnjzutp</td>\n      <td>must go to the grocery store with their child,...</td>\n      <td>2001</td>\n      <td>0</td>\n      <td>[must, go, to, the, grocery, store, with, thei...</td>\n      <td>[0.057216443, -0.12836617, 0.25229907, 0.32476...</td>\n      <td>0.016122</td>\n      <td>1560</td>\n    </tr>\n    <tr>\n      <th>2</th>\n      <td>t2_rnjzutp</td>\n      <td>things on her videos, and YouTube took the vid...</td>\n      <td>2001</td>\n      <td>0</td>\n      <td>[things, on, her, videos, ,, and, YouTube, too...</td>\n      <td>[0.06751289, -0.11984211, 0.2425011, 0.3101618...</td>\n      <td>0.016001</td>\n      <td>1542</td>\n    </tr>\n    <tr>\n      <th>3</th>\n      <td>t2_rnjzutp</td>\n      <td>their app. There's also a program called SYNC ...</td>\n      <td>2001</td>\n      <td>0</td>\n      <td>[their, app, ., There, ', s, also, a, program,...</td>\n      <td>[0.059638795, -0.114736974, 0.23432401, 0.3349...</td>\n      <td>0.016488</td>\n      <td>1567</td>\n    </tr>\n    <tr>\n      <th>4</th>\n      <td>t2_rnjzutp</td>\n      <td>side. If the cops don't take your side, you'll...</td>\n      <td>2001</td>\n      <td>0</td>\n      <td>[side, ., If, the, cops, don, ', t, take, your...</td>\n      <td>[0.06526452, -0.09764939, 0.2473862, 0.3262983...</td>\n      <td>0.016004</td>\n      <td>1552</td>\n    </tr>\n    <tr>\n      <th>...</th>\n      <td>...</td>\n      <td>...</td>\n      <td>...</td>\n      <td>...</td>\n      <td>...</td>\n      <td>...</td>\n      <td>...</td>\n      <td>...</td>\n    </tr>\n    <tr>\n      <th>25450</th>\n      <td>t2_ef4dv976</td>\n      <td>clever political meme on a sub about political...</td>\n      <td>1989</td>\n      <td>1</td>\n      <td>[clever, political, meme, on, a, sub, about, p...</td>\n      <td>[0.073144875, -0.124933265, 0.2885858, 0.30519...</td>\n      <td>0.017437</td>\n      <td>1074</td>\n    </tr>\n    <tr>\n      <th>25451</th>\n      <td>t2_7ps3a</td>\n      <td>Kevin. Glück gehabt. I will try! Thank you! I ...</td>\n      <td>1992</td>\n      <td>1</td>\n      <td>[Kevin, ., Glück, gehabt, ., I, will, try, !, ...</td>\n      <td>[0.09270658, 0.069318876, 0.06377351, 0.368193...</td>\n      <td>0.021317</td>\n      <td>1484</td>\n    </tr>\n    <tr>\n      <th>25452</th>\n      <td>t2_7ps3a</td>\n      <td>Handy/der Cloud speichern und in der Kamera ha...</td>\n      <td>1992</td>\n      <td>1</td>\n      <td>[Handy, /, der, Cloud, speichern, und, in, der...</td>\n      <td>[0.08413791, 0.08132758, 0.046772774, 0.379053...</td>\n      <td>0.022058</td>\n      <td>1490</td>\n    </tr>\n    <tr>\n      <th>25453</th>\n      <td>t2_7ps3a</td>\n      <td>that. :)) On Google I cant find much informati...</td>\n      <td>1992</td>\n      <td>1</td>\n      <td>[that, ., :, ), ), On, Google, I, cant, find, ...</td>\n      <td>[0.11956645, 0.18445647, -0.063145295, 0.37309...</td>\n      <td>0.027131</td>\n      <td>1504</td>\n    </tr>\n    <tr>\n      <th>25454</th>\n      <td>t2_7ps3a</td>\n      <td>Liste eintragen lassen können, sobald sie vega...</td>\n      <td>1992</td>\n      <td>1</td>\n      <td>[Liste, eintragen, lassen, können, ,, sobald, ...</td>\n      <td>[0.11624739, 0.2334154, -0.08899039, 0.4099715...</td>\n      <td>0.028553</td>\n      <td>943</td>\n    </tr>\n  </tbody>\n</table>\n<p>25455 rows × 8 columns</p>\n</div>"
     },
     "execution_count": 11,
     "metadata": {},
     "output_type": "execute_result"
    }
   ],
   "source": [
    "# document length\n",
    "def count_words(tokens):\n",
    "    return sum(1 for token in tokens if token.isalpha())\n",
    "mil_and_genz['doc_length'] = mil_and_genz['post_tokenized'].apply(count_words)\n",
    "mil_and_genz"
   ],
   "metadata": {
    "collapsed": false,
    "pycharm": {
     "name": "#%%\n"
    }
   }
  },
  {
   "cell_type": "code",
   "execution_count": 13,
   "outputs": [],
   "source": [],
   "metadata": {
    "collapsed": false,
    "pycharm": {
     "name": "#%%\n"
    }
   }
  }
 ],
 "metadata": {
  "kernelspec": {
   "display_name": "Python 3",
   "language": "python",
   "name": "python3"
  },
  "language_info": {
   "codemirror_mode": {
    "name": "ipython",
    "version": 2
   },
   "file_extension": ".py",
   "mimetype": "text/x-python",
   "name": "python",
   "nbconvert_exporter": "python",
   "pygments_lexer": "ipython2",
   "version": "2.7.6"
  }
 },
 "nbformat": 4,
 "nbformat_minor": 0
}