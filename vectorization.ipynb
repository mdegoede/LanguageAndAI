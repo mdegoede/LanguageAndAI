{
 "cells": [
  {
   "cell_type": "code",
   "execution_count": 1,
   "outputs": [],
   "source": [
    "# fasttext, w2v, GloVe"
   ],
   "metadata": {
    "collapsed": false,
    "pycharm": {
     "name": "#%%\n"
    }
   }
  },
  {
   "cell_type": "code",
   "execution_count": 2,
   "outputs": [],
   "source": [
    "# use: everything except word and token length"
   ],
   "metadata": {
    "collapsed": false,
    "pycharm": {
     "name": "#%%\n"
    }
   }
  },
  {
   "cell_type": "code",
   "execution_count": 42,
   "outputs": [],
   "source": [
    "import pandas as pd\n",
    "import nltk\n",
    "import matplotlib.pyplot as plt\n",
    "import string\n",
    "from nltk.corpus import stopwords\n",
    "import statistics\n",
    "import random\n",
    "from sklearn.utils import resample\n",
    "from nltk.tokenize import sent_tokenize, word_tokenize"
   ],
   "metadata": {
    "collapsed": false,
    "pycharm": {
     "name": "#%%\n"
    }
   }
  },
  {
   "cell_type": "code",
   "execution_count": 29,
   "outputs": [
    {
     "name": "stderr",
     "output_type": "stream",
     "text": [
      "<ipython-input-29-b54abaa40ef8>:3: SettingWithCopyWarning: \n",
      "A value is trying to be set on a copy of a slice from a DataFrame.\n",
      "Try using .loc[row_indexer,col_indexer] = value instead\n",
      "\n",
      "See the caveats in the documentation: https://pandas.pydata.org/pandas-docs/stable/user_guide/indexing.html#returning-a-view-versus-a-copy\n",
      "  mil_and_genz['binary_birth_year'] = 1\n",
      "C:\\ProgramData\\Anaconda3\\lib\\site-packages\\pandas\\core\\indexing.py:1720: SettingWithCopyWarning: \n",
      "A value is trying to be set on a copy of a slice from a DataFrame.\n",
      "Try using .loc[row_indexer,col_indexer] = value instead\n",
      "\n",
      "See the caveats in the documentation: https://pandas.pydata.org/pandas-docs/stable/user_guide/indexing.html#returning-a-view-versus-a-copy\n",
      "  self._setitem_single_column(loc, value, pi)\n"
     ]
    },
    {
     "data": {
      "text/plain": "         auhtor_ID                                               post  \\\n0       t2_rnjzutp  Good on you for being responsible! I know self...   \n1       t2_rnjzutp  must go to the grocery store with their child,...   \n2       t2_rnjzutp  things on her videos, and YouTube took the vid...   \n3       t2_rnjzutp  their app. There's also a program called SYNC ...   \n4       t2_rnjzutp  side. If the cops don't take your side, you'll...   \n...            ...                                                ...   \n25450  t2_ef4dv976  clever political meme on a sub about political...   \n25451     t2_7ps3a  Kevin. Glück gehabt. I will try! Thank you! I ...   \n25452     t2_7ps3a  Handy/der Cloud speichern und in der Kamera ha...   \n25453     t2_7ps3a  that. :)) On Google I cant find much informati...   \n25454     t2_7ps3a  Liste eintragen lassen können, sobald sie vega...   \n\n       birth_year  binary_birth_year  \n0            2001                  0  \n1            2001                  0  \n2            2001                  0  \n3            2001                  0  \n4            2001                  0  \n...           ...                ...  \n25450        1989                  1  \n25451        1992                  1  \n25452        1992                  1  \n25453        1992                  1  \n25454        1992                  1  \n\n[25455 rows x 4 columns]",
      "text/html": "<div>\n<style scoped>\n    .dataframe tbody tr th:only-of-type {\n        vertical-align: middle;\n    }\n\n    .dataframe tbody tr th {\n        vertical-align: top;\n    }\n\n    .dataframe thead th {\n        text-align: right;\n    }\n</style>\n<table border=\"1\" class=\"dataframe\">\n  <thead>\n    <tr style=\"text-align: right;\">\n      <th></th>\n      <th>auhtor_ID</th>\n      <th>post</th>\n      <th>birth_year</th>\n      <th>binary_birth_year</th>\n    </tr>\n  </thead>\n  <tbody>\n    <tr>\n      <th>0</th>\n      <td>t2_rnjzutp</td>\n      <td>Good on you for being responsible! I know self...</td>\n      <td>2001</td>\n      <td>0</td>\n    </tr>\n    <tr>\n      <th>1</th>\n      <td>t2_rnjzutp</td>\n      <td>must go to the grocery store with their child,...</td>\n      <td>2001</td>\n      <td>0</td>\n    </tr>\n    <tr>\n      <th>2</th>\n      <td>t2_rnjzutp</td>\n      <td>things on her videos, and YouTube took the vid...</td>\n      <td>2001</td>\n      <td>0</td>\n    </tr>\n    <tr>\n      <th>3</th>\n      <td>t2_rnjzutp</td>\n      <td>their app. There's also a program called SYNC ...</td>\n      <td>2001</td>\n      <td>0</td>\n    </tr>\n    <tr>\n      <th>4</th>\n      <td>t2_rnjzutp</td>\n      <td>side. If the cops don't take your side, you'll...</td>\n      <td>2001</td>\n      <td>0</td>\n    </tr>\n    <tr>\n      <th>...</th>\n      <td>...</td>\n      <td>...</td>\n      <td>...</td>\n      <td>...</td>\n    </tr>\n    <tr>\n      <th>25450</th>\n      <td>t2_ef4dv976</td>\n      <td>clever political meme on a sub about political...</td>\n      <td>1989</td>\n      <td>1</td>\n    </tr>\n    <tr>\n      <th>25451</th>\n      <td>t2_7ps3a</td>\n      <td>Kevin. Glück gehabt. I will try! Thank you! I ...</td>\n      <td>1992</td>\n      <td>1</td>\n    </tr>\n    <tr>\n      <th>25452</th>\n      <td>t2_7ps3a</td>\n      <td>Handy/der Cloud speichern und in der Kamera ha...</td>\n      <td>1992</td>\n      <td>1</td>\n    </tr>\n    <tr>\n      <th>25453</th>\n      <td>t2_7ps3a</td>\n      <td>that. :)) On Google I cant find much informati...</td>\n      <td>1992</td>\n      <td>1</td>\n    </tr>\n    <tr>\n      <th>25454</th>\n      <td>t2_7ps3a</td>\n      <td>Liste eintragen lassen können, sobald sie vega...</td>\n      <td>1992</td>\n      <td>1</td>\n    </tr>\n  </tbody>\n</table>\n<p>25455 rows × 4 columns</p>\n</div>"
     },
     "execution_count": 29,
     "metadata": {},
     "output_type": "execute_result"
    }
   ],
   "source": [
    "# get the df with the posts, tokenized posts, birth years, and binary birth years\n",
    "df_birth_year = pd.read_csv('data/birth_year.csv')\n",
    "mil_and_genz = df_birth_year[(1986 < df_birth_year['birth_year']) & (df_birth_year['birth_year'] <= 2006)]\n",
    "mil_and_genz['binary_birth_year'] = 1\n",
    "mil_and_genz.loc[(1996 < mil_and_genz['birth_year']) & (mil_and_genz['birth_year'] <= 2006), 'binary_birth_year'] = 0\n",
    "mil_and_genz = mil_and_genz.reset_index(drop=True)\n",
    "mil_and_genz"
   ],
   "metadata": {
    "collapsed": false,
    "pycharm": {
     "name": "#%%\n"
    }
   }
  },
  {
   "cell_type": "code",
   "execution_count": 33,
   "outputs": [
    {
     "data": {
      "text/plain": "         auhtor_ID                                               post  \\\n23607  t2_3u9vk5dm  gracia o fortuna, pero lleno de carisma. Su vi...   \n6830   t2_5uxbh2ne  feels like they barely (if at all) gloss over ...   \n14760     t2_sb1vk  mir, dass das wohl einer der dümmsten und glüc...   \n13566  t2_gx195sh0  Weebs 😖🤢🤮 Is that Madeline from the criminally...   \n5501   t2_5i82y6cm  to go through. And what kind of man wouldn’t w...   \n...            ...                                                ...   \n25426  t2_4xtxhz2o  - was sent it for free. * In 2008 I got the se...   \n25427  t2_4xtxhz2o  there is precident. I haven't finished the sea...   \n25428  t2_4xtxhz2o  The Next Generation / Enterprise 6. Wonder Wom...   \n25429  t2_4xtxhz2o  episodes from Series 8-9 (23.07%). Both are la...   \n25430  t2_4xtxhz2o  of the week here). * World Enough and Time / T...   \n\n       birth_year  binary_birth_year  \n23607        1992                  1  \n6830         1994                  1  \n14760        1995                  1  \n13566        1990                  1  \n5501         1994                  1  \n...           ...                ...  \n25426        2000                  0  \n25427        2000                  0  \n25428        2000                  0  \n25429        2000                  0  \n25430        2000                  0  \n\n[19804 rows x 4 columns]",
      "text/html": "<div>\n<style scoped>\n    .dataframe tbody tr th:only-of-type {\n        vertical-align: middle;\n    }\n\n    .dataframe tbody tr th {\n        vertical-align: top;\n    }\n\n    .dataframe thead th {\n        text-align: right;\n    }\n</style>\n<table border=\"1\" class=\"dataframe\">\n  <thead>\n    <tr style=\"text-align: right;\">\n      <th></th>\n      <th>auhtor_ID</th>\n      <th>post</th>\n      <th>birth_year</th>\n      <th>binary_birth_year</th>\n    </tr>\n  </thead>\n  <tbody>\n    <tr>\n      <th>23607</th>\n      <td>t2_3u9vk5dm</td>\n      <td>gracia o fortuna, pero lleno de carisma. Su vi...</td>\n      <td>1992</td>\n      <td>1</td>\n    </tr>\n    <tr>\n      <th>6830</th>\n      <td>t2_5uxbh2ne</td>\n      <td>feels like they barely (if at all) gloss over ...</td>\n      <td>1994</td>\n      <td>1</td>\n    </tr>\n    <tr>\n      <th>14760</th>\n      <td>t2_sb1vk</td>\n      <td>mir, dass das wohl einer der dümmsten und glüc...</td>\n      <td>1995</td>\n      <td>1</td>\n    </tr>\n    <tr>\n      <th>13566</th>\n      <td>t2_gx195sh0</td>\n      <td>Weebs 😖🤢🤮 Is that Madeline from the criminally...</td>\n      <td>1990</td>\n      <td>1</td>\n    </tr>\n    <tr>\n      <th>5501</th>\n      <td>t2_5i82y6cm</td>\n      <td>to go through. And what kind of man wouldn’t w...</td>\n      <td>1994</td>\n      <td>1</td>\n    </tr>\n    <tr>\n      <th>...</th>\n      <td>...</td>\n      <td>...</td>\n      <td>...</td>\n      <td>...</td>\n    </tr>\n    <tr>\n      <th>25426</th>\n      <td>t2_4xtxhz2o</td>\n      <td>- was sent it for free. * In 2008 I got the se...</td>\n      <td>2000</td>\n      <td>0</td>\n    </tr>\n    <tr>\n      <th>25427</th>\n      <td>t2_4xtxhz2o</td>\n      <td>there is precident. I haven't finished the sea...</td>\n      <td>2000</td>\n      <td>0</td>\n    </tr>\n    <tr>\n      <th>25428</th>\n      <td>t2_4xtxhz2o</td>\n      <td>The Next Generation / Enterprise 6. Wonder Wom...</td>\n      <td>2000</td>\n      <td>0</td>\n    </tr>\n    <tr>\n      <th>25429</th>\n      <td>t2_4xtxhz2o</td>\n      <td>episodes from Series 8-9 (23.07%). Both are la...</td>\n      <td>2000</td>\n      <td>0</td>\n    </tr>\n    <tr>\n      <th>25430</th>\n      <td>t2_4xtxhz2o</td>\n      <td>of the week here). * World Enough and Time / T...</td>\n      <td>2000</td>\n      <td>0</td>\n    </tr>\n  </tbody>\n</table>\n<p>19804 rows × 4 columns</p>\n</div>"
     },
     "execution_count": 33,
     "metadata": {},
     "output_type": "execute_result"
    }
   ],
   "source": [
    "# underample the minority class\n",
    "undersampled_df = pd.concat([\n",
    "    resample(mil_and_genz[mil_and_genz['binary_birth_year'] == 1],\n",
    "             replace=False,\n",
    "             n_samples=len(mil_and_genz[mil_and_genz['binary_birth_year'] == 0]),\n",
    "             random_state=42),\n",
    "    mil_and_genz[mil_and_genz['binary_birth_year'] == 0]\n",
    "])\n",
    "\n",
    "# shuffle the dataframe\n",
    "undersampled_df = undersampled_df.sample(frac=1, random_state=42).reset_index(drop=True)\n",
    "\n",
    "undersampled_df"
   ],
   "metadata": {
    "collapsed": false,
    "pycharm": {
     "name": "#%%\n"
    }
   }
  },
  {
   "cell_type": "code",
   "execution_count": 36,
   "outputs": [
    {
     "data": {
      "text/plain": "         auhtor_ID                                               post  \\\n0       t2_rnjzutp  Good on you for being responsible! I know self...   \n1       t2_rnjzutp  must go to the grocery store with their child,...   \n2       t2_rnjzutp  things on her videos, and YouTube took the vid...   \n3       t2_rnjzutp  their app. There's also a program called SYNC ...   \n4       t2_rnjzutp  side. If the cops don't take your side, you'll...   \n...            ...                                                ...   \n25450  t2_ef4dv976  clever political meme on a sub about political...   \n25451     t2_7ps3a  Kevin. Glück gehabt. I will try! Thank you! I ...   \n25452     t2_7ps3a  Handy/der Cloud speichern und in der Kamera ha...   \n25453     t2_7ps3a  that. :)) On Google I cant find much informati...   \n25454     t2_7ps3a  Liste eintragen lassen können, sobald sie vega...   \n\n       birth_year  binary_birth_year  \\\n0            2001                  0   \n1            2001                  0   \n2            2001                  0   \n3            2001                  0   \n4            2001                  0   \n...           ...                ...   \n25450        1989                  1   \n25451        1992                  1   \n25452        1992                  1   \n25453        1992                  1   \n25454        1992                  1   \n\n                                          post_tokenized  \n0      [Good, on, you, for, being, responsible, !, I,...  \n1      [must, go, to, the, grocery, store, with, thei...  \n2      [things, on, her, videos, ,, and, YouTube, too...  \n3      [their, app, ., There, ', s, also, a, program,...  \n4      [side, ., If, the, cops, don, ', t, take, your...  \n...                                                  ...  \n25450  [clever, political, meme, on, a, sub, about, p...  \n25451  [Kevin, ., Glück, gehabt, ., I, will, try, !, ...  \n25452  [Handy, /, der, Cloud, speichern, und, in, der...  \n25453  [that, ., :, ), ), On, Google, I, cant, find, ...  \n25454  [Liste, eintragen, lassen, können, ,, sobald, ...  \n\n[25455 rows x 5 columns]",
      "text/html": "<div>\n<style scoped>\n    .dataframe tbody tr th:only-of-type {\n        vertical-align: middle;\n    }\n\n    .dataframe tbody tr th {\n        vertical-align: top;\n    }\n\n    .dataframe thead th {\n        text-align: right;\n    }\n</style>\n<table border=\"1\" class=\"dataframe\">\n  <thead>\n    <tr style=\"text-align: right;\">\n      <th></th>\n      <th>auhtor_ID</th>\n      <th>post</th>\n      <th>birth_year</th>\n      <th>binary_birth_year</th>\n      <th>post_tokenized</th>\n    </tr>\n  </thead>\n  <tbody>\n    <tr>\n      <th>0</th>\n      <td>t2_rnjzutp</td>\n      <td>Good on you for being responsible! I know self...</td>\n      <td>2001</td>\n      <td>0</td>\n      <td>[Good, on, you, for, being, responsible, !, I,...</td>\n    </tr>\n    <tr>\n      <th>1</th>\n      <td>t2_rnjzutp</td>\n      <td>must go to the grocery store with their child,...</td>\n      <td>2001</td>\n      <td>0</td>\n      <td>[must, go, to, the, grocery, store, with, thei...</td>\n    </tr>\n    <tr>\n      <th>2</th>\n      <td>t2_rnjzutp</td>\n      <td>things on her videos, and YouTube took the vid...</td>\n      <td>2001</td>\n      <td>0</td>\n      <td>[things, on, her, videos, ,, and, YouTube, too...</td>\n    </tr>\n    <tr>\n      <th>3</th>\n      <td>t2_rnjzutp</td>\n      <td>their app. There's also a program called SYNC ...</td>\n      <td>2001</td>\n      <td>0</td>\n      <td>[their, app, ., There, ', s, also, a, program,...</td>\n    </tr>\n    <tr>\n      <th>4</th>\n      <td>t2_rnjzutp</td>\n      <td>side. If the cops don't take your side, you'll...</td>\n      <td>2001</td>\n      <td>0</td>\n      <td>[side, ., If, the, cops, don, ', t, take, your...</td>\n    </tr>\n    <tr>\n      <th>...</th>\n      <td>...</td>\n      <td>...</td>\n      <td>...</td>\n      <td>...</td>\n      <td>...</td>\n    </tr>\n    <tr>\n      <th>25450</th>\n      <td>t2_ef4dv976</td>\n      <td>clever political meme on a sub about political...</td>\n      <td>1989</td>\n      <td>1</td>\n      <td>[clever, political, meme, on, a, sub, about, p...</td>\n    </tr>\n    <tr>\n      <th>25451</th>\n      <td>t2_7ps3a</td>\n      <td>Kevin. Glück gehabt. I will try! Thank you! I ...</td>\n      <td>1992</td>\n      <td>1</td>\n      <td>[Kevin, ., Glück, gehabt, ., I, will, try, !, ...</td>\n    </tr>\n    <tr>\n      <th>25452</th>\n      <td>t2_7ps3a</td>\n      <td>Handy/der Cloud speichern und in der Kamera ha...</td>\n      <td>1992</td>\n      <td>1</td>\n      <td>[Handy, /, der, Cloud, speichern, und, in, der...</td>\n    </tr>\n    <tr>\n      <th>25453</th>\n      <td>t2_7ps3a</td>\n      <td>that. :)) On Google I cant find much informati...</td>\n      <td>1992</td>\n      <td>1</td>\n      <td>[that, ., :, ), ), On, Google, I, cant, find, ...</td>\n    </tr>\n    <tr>\n      <th>25454</th>\n      <td>t2_7ps3a</td>\n      <td>Liste eintragen lassen können, sobald sie vega...</td>\n      <td>1992</td>\n      <td>1</td>\n      <td>[Liste, eintragen, lassen, können, ,, sobald, ...</td>\n    </tr>\n  </tbody>\n</table>\n<p>25455 rows × 5 columns</p>\n</div>"
     },
     "execution_count": 36,
     "metadata": {},
     "output_type": "execute_result"
    }
   ],
   "source": [
    "# tokenization\n",
    "mil_and_genz['post_tokenized'] = mil_and_genz.post.str.findall('\\w+|[^\\w\\s]')\n",
    "mil_and_genz"
   ],
   "metadata": {
    "collapsed": false,
    "pycharm": {
     "name": "#%%\n"
    }
   }
  },
  {
   "cell_type": "code",
   "execution_count": 39,
   "outputs": [
    {
     "data": {
      "text/plain": "         auhtor_ID                                               post  \\\n0       t2_rnjzutp  Good on you for being responsible! I know self...   \n1       t2_rnjzutp  must go to the grocery store with their child,...   \n2       t2_rnjzutp  things on her videos, and YouTube took the vid...   \n3       t2_rnjzutp  their app. There's also a program called SYNC ...   \n4       t2_rnjzutp  side. If the cops don't take your side, you'll...   \n...            ...                                                ...   \n25450  t2_ef4dv976  clever political meme on a sub about political...   \n25451     t2_7ps3a  Kevin. Glück gehabt. I will try! Thank you! I ...   \n25452     t2_7ps3a  Handy/der Cloud speichern und in der Kamera ha...   \n25453     t2_7ps3a  that. :)) On Google I cant find much informati...   \n25454     t2_7ps3a  Liste eintragen lassen können, sobald sie vega...   \n\n       birth_year  binary_birth_year  \\\n0            2001                  0   \n1            2001                  0   \n2            2001                  0   \n3            2001                  0   \n4            2001                  0   \n...           ...                ...   \n25450        1989                  1   \n25451        1992                  1   \n25452        1992                  1   \n25453        1992                  1   \n25454        1992                  1   \n\n                                          post_tokenized  doc_length  \n0      [Good, on, you, for, being, responsible, !, I,...        1550  \n1      [must, go, to, the, grocery, store, with, thei...        1560  \n2      [things, on, her, videos, ,, and, YouTube, too...        1542  \n3      [their, app, ., There, ', s, also, a, program,...        1567  \n4      [side, ., If, the, cops, don, ', t, take, your...        1552  \n...                                                  ...         ...  \n25450  [clever, political, meme, on, a, sub, about, p...        1074  \n25451  [Kevin, ., Glück, gehabt, ., I, will, try, !, ...        1484  \n25452  [Handy, /, der, Cloud, speichern, und, in, der...        1490  \n25453  [that, ., :, ), ), On, Google, I, cant, find, ...        1504  \n25454  [Liste, eintragen, lassen, können, ,, sobald, ...         943  \n\n[25455 rows x 6 columns]",
      "text/html": "<div>\n<style scoped>\n    .dataframe tbody tr th:only-of-type {\n        vertical-align: middle;\n    }\n\n    .dataframe tbody tr th {\n        vertical-align: top;\n    }\n\n    .dataframe thead th {\n        text-align: right;\n    }\n</style>\n<table border=\"1\" class=\"dataframe\">\n  <thead>\n    <tr style=\"text-align: right;\">\n      <th></th>\n      <th>auhtor_ID</th>\n      <th>post</th>\n      <th>birth_year</th>\n      <th>binary_birth_year</th>\n      <th>post_tokenized</th>\n      <th>doc_length</th>\n    </tr>\n  </thead>\n  <tbody>\n    <tr>\n      <th>0</th>\n      <td>t2_rnjzutp</td>\n      <td>Good on you for being responsible! I know self...</td>\n      <td>2001</td>\n      <td>0</td>\n      <td>[Good, on, you, for, being, responsible, !, I,...</td>\n      <td>1550</td>\n    </tr>\n    <tr>\n      <th>1</th>\n      <td>t2_rnjzutp</td>\n      <td>must go to the grocery store with their child,...</td>\n      <td>2001</td>\n      <td>0</td>\n      <td>[must, go, to, the, grocery, store, with, thei...</td>\n      <td>1560</td>\n    </tr>\n    <tr>\n      <th>2</th>\n      <td>t2_rnjzutp</td>\n      <td>things on her videos, and YouTube took the vid...</td>\n      <td>2001</td>\n      <td>0</td>\n      <td>[things, on, her, videos, ,, and, YouTube, too...</td>\n      <td>1542</td>\n    </tr>\n    <tr>\n      <th>3</th>\n      <td>t2_rnjzutp</td>\n      <td>their app. There's also a program called SYNC ...</td>\n      <td>2001</td>\n      <td>0</td>\n      <td>[their, app, ., There, ', s, also, a, program,...</td>\n      <td>1567</td>\n    </tr>\n    <tr>\n      <th>4</th>\n      <td>t2_rnjzutp</td>\n      <td>side. If the cops don't take your side, you'll...</td>\n      <td>2001</td>\n      <td>0</td>\n      <td>[side, ., If, the, cops, don, ', t, take, your...</td>\n      <td>1552</td>\n    </tr>\n    <tr>\n      <th>...</th>\n      <td>...</td>\n      <td>...</td>\n      <td>...</td>\n      <td>...</td>\n      <td>...</td>\n      <td>...</td>\n    </tr>\n    <tr>\n      <th>25450</th>\n      <td>t2_ef4dv976</td>\n      <td>clever political meme on a sub about political...</td>\n      <td>1989</td>\n      <td>1</td>\n      <td>[clever, political, meme, on, a, sub, about, p...</td>\n      <td>1074</td>\n    </tr>\n    <tr>\n      <th>25451</th>\n      <td>t2_7ps3a</td>\n      <td>Kevin. Glück gehabt. I will try! Thank you! I ...</td>\n      <td>1992</td>\n      <td>1</td>\n      <td>[Kevin, ., Glück, gehabt, ., I, will, try, !, ...</td>\n      <td>1484</td>\n    </tr>\n    <tr>\n      <th>25452</th>\n      <td>t2_7ps3a</td>\n      <td>Handy/der Cloud speichern und in der Kamera ha...</td>\n      <td>1992</td>\n      <td>1</td>\n      <td>[Handy, /, der, Cloud, speichern, und, in, der...</td>\n      <td>1490</td>\n    </tr>\n    <tr>\n      <th>25453</th>\n      <td>t2_7ps3a</td>\n      <td>that. :)) On Google I cant find much informati...</td>\n      <td>1992</td>\n      <td>1</td>\n      <td>[that, ., :, ), ), On, Google, I, cant, find, ...</td>\n      <td>1504</td>\n    </tr>\n    <tr>\n      <th>25454</th>\n      <td>t2_7ps3a</td>\n      <td>Liste eintragen lassen können, sobald sie vega...</td>\n      <td>1992</td>\n      <td>1</td>\n      <td>[Liste, eintragen, lassen, können, ,, sobald, ...</td>\n      <td>943</td>\n    </tr>\n  </tbody>\n</table>\n<p>25455 rows × 6 columns</p>\n</div>"
     },
     "execution_count": 39,
     "metadata": {},
     "output_type": "execute_result"
    }
   ],
   "source": [
    "# document length\n",
    "def count_words(tokens):\n",
    "    return sum(1 for token in tokens if token.isalpha())\n",
    "mil_and_genz['doc_length'] = mil_and_genz['post_tokenized'].apply(count_words)\n",
    "mil_and_genz"
   ],
   "metadata": {
    "collapsed": false,
    "pycharm": {
     "name": "#%%\n"
    }
   }
  },
  {
   "cell_type": "code",
   "execution_count": 46,
   "outputs": [
    {
     "data": {
      "text/plain": "         auhtor_ID                                               post  \\\n0       t2_rnjzutp  Good on you for being responsible! I know self...   \n1       t2_rnjzutp  must go to the grocery store with their child,...   \n2       t2_rnjzutp  things on her videos, and YouTube took the vid...   \n3       t2_rnjzutp  their app. There's also a program called SYNC ...   \n4       t2_rnjzutp  side. If the cops don't take your side, you'll...   \n...            ...                                                ...   \n25450  t2_ef4dv976  clever political meme on a sub about political...   \n25451     t2_7ps3a  Kevin. Glück gehabt. I will try! Thank you! I ...   \n25452     t2_7ps3a  Handy/der Cloud speichern und in der Kamera ha...   \n25453     t2_7ps3a  that. :)) On Google I cant find much informati...   \n25454     t2_7ps3a  Liste eintragen lassen können, sobald sie vega...   \n\n       birth_year  binary_birth_year  \\\n0            2001                  0   \n1            2001                  0   \n2            2001                  0   \n3            2001                  0   \n4            2001                  0   \n...           ...                ...   \n25450        1989                  1   \n25451        1992                  1   \n25452        1992                  1   \n25453        1992                  1   \n25454        1992                  1   \n\n                                          post_tokenized  doc_length  \\\n0      [Good, on, you, for, being, responsible, !, I,...        1550   \n1      [must, go, to, the, grocery, store, with, thei...        1560   \n2      [things, on, her, videos, ,, and, YouTube, too...        1542   \n3      [their, app, ., There, ', s, also, a, program,...        1567   \n4      [side, ., If, the, cops, don, ', t, take, your...        1552   \n...                                                  ...         ...   \n25450  [clever, political, meme, on, a, sub, about, p...        1074   \n25451  [Kevin, ., Glück, gehabt, ., I, will, try, !, ...        1484   \n25452  [Handy, /, der, Cloud, speichern, und, in, der...        1490   \n25453  [that, ., :, ), ), On, Google, I, cant, find, ...        1504   \n25454  [Liste, eintragen, lassen, können, ,, sobald, ...         943   \n\n       avg_sentence_length  nr_sent  \n0                18.746835       79  \n1                15.694737       95  \n2                17.879518       83  \n3                17.879518       83  \n4                16.730337       89  \n...                    ...      ...  \n25450            16.935484       62  \n25451            11.926230      122  \n25452            13.407407      108  \n25453            15.114583       96  \n25454            12.767123       73  \n\n[25455 rows x 8 columns]",
      "text/html": "<div>\n<style scoped>\n    .dataframe tbody tr th:only-of-type {\n        vertical-align: middle;\n    }\n\n    .dataframe tbody tr th {\n        vertical-align: top;\n    }\n\n    .dataframe thead th {\n        text-align: right;\n    }\n</style>\n<table border=\"1\" class=\"dataframe\">\n  <thead>\n    <tr style=\"text-align: right;\">\n      <th></th>\n      <th>auhtor_ID</th>\n      <th>post</th>\n      <th>birth_year</th>\n      <th>binary_birth_year</th>\n      <th>post_tokenized</th>\n      <th>doc_length</th>\n      <th>avg_sentence_length</th>\n      <th>nr_sent</th>\n    </tr>\n  </thead>\n  <tbody>\n    <tr>\n      <th>0</th>\n      <td>t2_rnjzutp</td>\n      <td>Good on you for being responsible! I know self...</td>\n      <td>2001</td>\n      <td>0</td>\n      <td>[Good, on, you, for, being, responsible, !, I,...</td>\n      <td>1550</td>\n      <td>18.746835</td>\n      <td>79</td>\n    </tr>\n    <tr>\n      <th>1</th>\n      <td>t2_rnjzutp</td>\n      <td>must go to the grocery store with their child,...</td>\n      <td>2001</td>\n      <td>0</td>\n      <td>[must, go, to, the, grocery, store, with, thei...</td>\n      <td>1560</td>\n      <td>15.694737</td>\n      <td>95</td>\n    </tr>\n    <tr>\n      <th>2</th>\n      <td>t2_rnjzutp</td>\n      <td>things on her videos, and YouTube took the vid...</td>\n      <td>2001</td>\n      <td>0</td>\n      <td>[things, on, her, videos, ,, and, YouTube, too...</td>\n      <td>1542</td>\n      <td>17.879518</td>\n      <td>83</td>\n    </tr>\n    <tr>\n      <th>3</th>\n      <td>t2_rnjzutp</td>\n      <td>their app. There's also a program called SYNC ...</td>\n      <td>2001</td>\n      <td>0</td>\n      <td>[their, app, ., There, ', s, also, a, program,...</td>\n      <td>1567</td>\n      <td>17.879518</td>\n      <td>83</td>\n    </tr>\n    <tr>\n      <th>4</th>\n      <td>t2_rnjzutp</td>\n      <td>side. If the cops don't take your side, you'll...</td>\n      <td>2001</td>\n      <td>0</td>\n      <td>[side, ., If, the, cops, don, ', t, take, your...</td>\n      <td>1552</td>\n      <td>16.730337</td>\n      <td>89</td>\n    </tr>\n    <tr>\n      <th>...</th>\n      <td>...</td>\n      <td>...</td>\n      <td>...</td>\n      <td>...</td>\n      <td>...</td>\n      <td>...</td>\n      <td>...</td>\n      <td>...</td>\n    </tr>\n    <tr>\n      <th>25450</th>\n      <td>t2_ef4dv976</td>\n      <td>clever political meme on a sub about political...</td>\n      <td>1989</td>\n      <td>1</td>\n      <td>[clever, political, meme, on, a, sub, about, p...</td>\n      <td>1074</td>\n      <td>16.935484</td>\n      <td>62</td>\n    </tr>\n    <tr>\n      <th>25451</th>\n      <td>t2_7ps3a</td>\n      <td>Kevin. Glück gehabt. I will try! Thank you! I ...</td>\n      <td>1992</td>\n      <td>1</td>\n      <td>[Kevin, ., Glück, gehabt, ., I, will, try, !, ...</td>\n      <td>1484</td>\n      <td>11.926230</td>\n      <td>122</td>\n    </tr>\n    <tr>\n      <th>25452</th>\n      <td>t2_7ps3a</td>\n      <td>Handy/der Cloud speichern und in der Kamera ha...</td>\n      <td>1992</td>\n      <td>1</td>\n      <td>[Handy, /, der, Cloud, speichern, und, in, der...</td>\n      <td>1490</td>\n      <td>13.407407</td>\n      <td>108</td>\n    </tr>\n    <tr>\n      <th>25453</th>\n      <td>t2_7ps3a</td>\n      <td>that. :)) On Google I cant find much informati...</td>\n      <td>1992</td>\n      <td>1</td>\n      <td>[that, ., :, ), ), On, Google, I, cant, find, ...</td>\n      <td>1504</td>\n      <td>15.114583</td>\n      <td>96</td>\n    </tr>\n    <tr>\n      <th>25454</th>\n      <td>t2_7ps3a</td>\n      <td>Liste eintragen lassen können, sobald sie vega...</td>\n      <td>1992</td>\n      <td>1</td>\n      <td>[Liste, eintragen, lassen, können, ,, sobald, ...</td>\n      <td>943</td>\n      <td>12.767123</td>\n      <td>73</td>\n    </tr>\n  </tbody>\n</table>\n<p>25455 rows × 8 columns</p>\n</div>"
     },
     "execution_count": 46,
     "metadata": {},
     "output_type": "execute_result"
    }
   ],
   "source": [
    "# number of sentence\n",
    "mil_and_genz['nr_sent'] = [len(nltk.sent_tokenize(text)) for text in mil_and_genz['post']]\n",
    "mil_and_genz"
   ],
   "metadata": {
    "collapsed": false,
    "pycharm": {
     "name": "#%%\n"
    }
   }
  },
  {
   "cell_type": "code",
   "execution_count": 44,
   "outputs": [
    {
     "data": {
      "text/plain": "         auhtor_ID                                               post  \\\n0       t2_rnjzutp  Good on you for being responsible! I know self...   \n1       t2_rnjzutp  must go to the grocery store with their child,...   \n2       t2_rnjzutp  things on her videos, and YouTube took the vid...   \n3       t2_rnjzutp  their app. There's also a program called SYNC ...   \n4       t2_rnjzutp  side. If the cops don't take your side, you'll...   \n...            ...                                                ...   \n25450  t2_ef4dv976  clever political meme on a sub about political...   \n25451     t2_7ps3a  Kevin. Glück gehabt. I will try! Thank you! I ...   \n25452     t2_7ps3a  Handy/der Cloud speichern und in der Kamera ha...   \n25453     t2_7ps3a  that. :)) On Google I cant find much informati...   \n25454     t2_7ps3a  Liste eintragen lassen können, sobald sie vega...   \n\n       birth_year  binary_birth_year  \\\n0            2001                  0   \n1            2001                  0   \n2            2001                  0   \n3            2001                  0   \n4            2001                  0   \n...           ...                ...   \n25450        1989                  1   \n25451        1992                  1   \n25452        1992                  1   \n25453        1992                  1   \n25454        1992                  1   \n\n                                          post_tokenized  doc_length  \\\n0      [Good, on, you, for, being, responsible, !, I,...        1550   \n1      [must, go, to, the, grocery, store, with, thei...        1560   \n2      [things, on, her, videos, ,, and, YouTube, too...        1542   \n3      [their, app, ., There, ', s, also, a, program,...        1567   \n4      [side, ., If, the, cops, don, ', t, take, your...        1552   \n...                                                  ...         ...   \n25450  [clever, political, meme, on, a, sub, about, p...        1074   \n25451  [Kevin, ., Glück, gehabt, ., I, will, try, !, ...        1484   \n25452  [Handy, /, der, Cloud, speichern, und, in, der...        1490   \n25453  [that, ., :, ), ), On, Google, I, cant, find, ...        1504   \n25454  [Liste, eintragen, lassen, können, ,, sobald, ...         943   \n\n       avg_sentence_length  \n0                18.746835  \n1                15.694737  \n2                17.879518  \n3                17.879518  \n4                16.730337  \n...                    ...  \n25450            16.935484  \n25451            11.926230  \n25452            13.407407  \n25453            15.114583  \n25454            12.767123  \n\n[25455 rows x 7 columns]",
      "text/html": "<div>\n<style scoped>\n    .dataframe tbody tr th:only-of-type {\n        vertical-align: middle;\n    }\n\n    .dataframe tbody tr th {\n        vertical-align: top;\n    }\n\n    .dataframe thead th {\n        text-align: right;\n    }\n</style>\n<table border=\"1\" class=\"dataframe\">\n  <thead>\n    <tr style=\"text-align: right;\">\n      <th></th>\n      <th>auhtor_ID</th>\n      <th>post</th>\n      <th>birth_year</th>\n      <th>binary_birth_year</th>\n      <th>post_tokenized</th>\n      <th>doc_length</th>\n      <th>avg_sentence_length</th>\n    </tr>\n  </thead>\n  <tbody>\n    <tr>\n      <th>0</th>\n      <td>t2_rnjzutp</td>\n      <td>Good on you for being responsible! I know self...</td>\n      <td>2001</td>\n      <td>0</td>\n      <td>[Good, on, you, for, being, responsible, !, I,...</td>\n      <td>1550</td>\n      <td>18.746835</td>\n    </tr>\n    <tr>\n      <th>1</th>\n      <td>t2_rnjzutp</td>\n      <td>must go to the grocery store with their child,...</td>\n      <td>2001</td>\n      <td>0</td>\n      <td>[must, go, to, the, grocery, store, with, thei...</td>\n      <td>1560</td>\n      <td>15.694737</td>\n    </tr>\n    <tr>\n      <th>2</th>\n      <td>t2_rnjzutp</td>\n      <td>things on her videos, and YouTube took the vid...</td>\n      <td>2001</td>\n      <td>0</td>\n      <td>[things, on, her, videos, ,, and, YouTube, too...</td>\n      <td>1542</td>\n      <td>17.879518</td>\n    </tr>\n    <tr>\n      <th>3</th>\n      <td>t2_rnjzutp</td>\n      <td>their app. There's also a program called SYNC ...</td>\n      <td>2001</td>\n      <td>0</td>\n      <td>[their, app, ., There, ', s, also, a, program,...</td>\n      <td>1567</td>\n      <td>17.879518</td>\n    </tr>\n    <tr>\n      <th>4</th>\n      <td>t2_rnjzutp</td>\n      <td>side. If the cops don't take your side, you'll...</td>\n      <td>2001</td>\n      <td>0</td>\n      <td>[side, ., If, the, cops, don, ', t, take, your...</td>\n      <td>1552</td>\n      <td>16.730337</td>\n    </tr>\n    <tr>\n      <th>...</th>\n      <td>...</td>\n      <td>...</td>\n      <td>...</td>\n      <td>...</td>\n      <td>...</td>\n      <td>...</td>\n      <td>...</td>\n    </tr>\n    <tr>\n      <th>25450</th>\n      <td>t2_ef4dv976</td>\n      <td>clever political meme on a sub about political...</td>\n      <td>1989</td>\n      <td>1</td>\n      <td>[clever, political, meme, on, a, sub, about, p...</td>\n      <td>1074</td>\n      <td>16.935484</td>\n    </tr>\n    <tr>\n      <th>25451</th>\n      <td>t2_7ps3a</td>\n      <td>Kevin. Glück gehabt. I will try! Thank you! I ...</td>\n      <td>1992</td>\n      <td>1</td>\n      <td>[Kevin, ., Glück, gehabt, ., I, will, try, !, ...</td>\n      <td>1484</td>\n      <td>11.926230</td>\n    </tr>\n    <tr>\n      <th>25452</th>\n      <td>t2_7ps3a</td>\n      <td>Handy/der Cloud speichern und in der Kamera ha...</td>\n      <td>1992</td>\n      <td>1</td>\n      <td>[Handy, /, der, Cloud, speichern, und, in, der...</td>\n      <td>1490</td>\n      <td>13.407407</td>\n    </tr>\n    <tr>\n      <th>25453</th>\n      <td>t2_7ps3a</td>\n      <td>that. :)) On Google I cant find much informati...</td>\n      <td>1992</td>\n      <td>1</td>\n      <td>[that, ., :, ), ), On, Google, I, cant, find, ...</td>\n      <td>1504</td>\n      <td>15.114583</td>\n    </tr>\n    <tr>\n      <th>25454</th>\n      <td>t2_7ps3a</td>\n      <td>Liste eintragen lassen können, sobald sie vega...</td>\n      <td>1992</td>\n      <td>1</td>\n      <td>[Liste, eintragen, lassen, können, ,, sobald, ...</td>\n      <td>943</td>\n      <td>12.767123</td>\n    </tr>\n  </tbody>\n</table>\n<p>25455 rows × 7 columns</p>\n</div>"
     },
     "execution_count": 44,
     "metadata": {},
     "output_type": "execute_result"
    }
   ],
   "source": [
    "# sentence length\n",
    "mil_and_genz['avg_sentence_length'] = mil_and_genz['post'].apply(lambda text:\n",
    "    sum(1 for sentence in sent_tokenize(text) for word in word_tokenize(sentence) if word.isalpha()) /\n",
    "    max(1, len(sent_tokenize(text)))\n",
    ")\n",
    "mil_and_genz"
   ],
   "metadata": {
    "collapsed": false,
    "pycharm": {
     "name": "#%%\n"
    }
   }
  },
  {
   "cell_type": "code",
   "execution_count": null,
   "outputs": [],
   "source": [
    "# still need to do stopwords, punctuation, and POS tagging.\n",
    "# just say for every important word/tag/symbol make diff col and count nr times it is present?"
   ],
   "metadata": {
    "collapsed": false,
    "pycharm": {
     "name": "#%%\n"
    }
   }
  }
 ],
 "metadata": {
  "kernelspec": {
   "display_name": "Python 3",
   "language": "python",
   "name": "python3"
  },
  "language_info": {
   "codemirror_mode": {
    "name": "ipython",
    "version": 2
   },
   "file_extension": ".py",
   "mimetype": "text/x-python",
   "name": "python",
   "nbconvert_exporter": "python",
   "pygments_lexer": "ipython2",
   "version": "2.7.6"
  }
 },
 "nbformat": 4,
 "nbformat_minor": 0
}