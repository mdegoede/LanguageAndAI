{
 "cells": [
  {
   "cell_type": "code",
   "execution_count": 1,
   "outputs": [],
   "source": [
    "# fasttext, w2v, GloVe"
   ],
   "metadata": {
    "collapsed": false,
    "pycharm": {
     "name": "#%%\n"
    }
   }
  },
  {
   "cell_type": "code",
   "execution_count": 2,
   "outputs": [],
   "source": [
    "# use: everything except word and token length"
   ],
   "metadata": {
    "collapsed": false,
    "pycharm": {
     "name": "#%%\n"
    }
   }
  },
  {
   "cell_type": "code",
   "execution_count": 3,
   "outputs": [],
   "source": [
    "import pandas as pd\n",
    "import nltk\n",
    "from nltk import pos_tag\n",
    "import matplotlib.pyplot as plt\n",
    "import string\n",
    "from nltk.corpus import stopwords\n",
    "import statistics\n",
    "import random\n",
    "from sklearn.utils import resample\n",
    "from nltk.tokenize import sent_tokenize, word_tokenize"
   ],
   "metadata": {
    "collapsed": false,
    "pycharm": {
     "name": "#%%\n"
    }
   }
  },
  {
   "cell_type": "code",
   "execution_count": 4,
   "outputs": [
    {
     "name": "stderr",
     "output_type": "stream",
     "text": [
      "<ipython-input-4-114eccf57dcd>:4: SettingWithCopyWarning: \n",
      "A value is trying to be set on a copy of a slice from a DataFrame.\n",
      "Try using .loc[row_indexer,col_indexer] = value instead\n",
      "\n",
      "See the caveats in the documentation: https://pandas.pydata.org/pandas-docs/stable/user_guide/indexing.html#returning-a-view-versus-a-copy\n",
      "  mil_and_genz['binary_birth_year'] = 1\n",
      "C:\\ProgramData\\Anaconda3\\lib\\site-packages\\pandas\\core\\indexing.py:1720: SettingWithCopyWarning: \n",
      "A value is trying to be set on a copy of a slice from a DataFrame.\n",
      "Try using .loc[row_indexer,col_indexer] = value instead\n",
      "\n",
      "See the caveats in the documentation: https://pandas.pydata.org/pandas-docs/stable/user_guide/indexing.html#returning-a-view-versus-a-copy\n",
      "  self._setitem_single_column(loc, value, pi)\n"
     ]
    },
    {
     "data": {
      "text/plain": "         auhtor_ID                                               post  \\\n0       t2_rnjzutp  Good on you for being responsible! I know self...   \n1       t2_rnjzutp  must go to the grocery store with their child,...   \n2       t2_rnjzutp  things on her videos, and YouTube took the vid...   \n3       t2_rnjzutp  their app. There's also a program called SYNC ...   \n4       t2_rnjzutp  side. If the cops don't take your side, you'll...   \n...            ...                                                ...   \n25450  t2_ef4dv976  clever political meme on a sub about political...   \n25451     t2_7ps3a  Kevin. Glück gehabt. I will try! Thank you! I ...   \n25452     t2_7ps3a  Handy/der Cloud speichern und in der Kamera ha...   \n25453     t2_7ps3a  that. :)) On Google I cant find much informati...   \n25454     t2_7ps3a  Liste eintragen lassen können, sobald sie vega...   \n\n       birth_year  binary_birth_year  \n0            2001                  0  \n1            2001                  0  \n2            2001                  0  \n3            2001                  0  \n4            2001                  0  \n...           ...                ...  \n25450        1989                  1  \n25451        1992                  1  \n25452        1992                  1  \n25453        1992                  1  \n25454        1992                  1  \n\n[25455 rows x 4 columns]",
      "text/html": "<div>\n<style scoped>\n    .dataframe tbody tr th:only-of-type {\n        vertical-align: middle;\n    }\n\n    .dataframe tbody tr th {\n        vertical-align: top;\n    }\n\n    .dataframe thead th {\n        text-align: right;\n    }\n</style>\n<table border=\"1\" class=\"dataframe\">\n  <thead>\n    <tr style=\"text-align: right;\">\n      <th></th>\n      <th>auhtor_ID</th>\n      <th>post</th>\n      <th>birth_year</th>\n      <th>binary_birth_year</th>\n    </tr>\n  </thead>\n  <tbody>\n    <tr>\n      <th>0</th>\n      <td>t2_rnjzutp</td>\n      <td>Good on you for being responsible! I know self...</td>\n      <td>2001</td>\n      <td>0</td>\n    </tr>\n    <tr>\n      <th>1</th>\n      <td>t2_rnjzutp</td>\n      <td>must go to the grocery store with their child,...</td>\n      <td>2001</td>\n      <td>0</td>\n    </tr>\n    <tr>\n      <th>2</th>\n      <td>t2_rnjzutp</td>\n      <td>things on her videos, and YouTube took the vid...</td>\n      <td>2001</td>\n      <td>0</td>\n    </tr>\n    <tr>\n      <th>3</th>\n      <td>t2_rnjzutp</td>\n      <td>their app. There's also a program called SYNC ...</td>\n      <td>2001</td>\n      <td>0</td>\n    </tr>\n    <tr>\n      <th>4</th>\n      <td>t2_rnjzutp</td>\n      <td>side. If the cops don't take your side, you'll...</td>\n      <td>2001</td>\n      <td>0</td>\n    </tr>\n    <tr>\n      <th>...</th>\n      <td>...</td>\n      <td>...</td>\n      <td>...</td>\n      <td>...</td>\n    </tr>\n    <tr>\n      <th>25450</th>\n      <td>t2_ef4dv976</td>\n      <td>clever political meme on a sub about political...</td>\n      <td>1989</td>\n      <td>1</td>\n    </tr>\n    <tr>\n      <th>25451</th>\n      <td>t2_7ps3a</td>\n      <td>Kevin. Glück gehabt. I will try! Thank you! I ...</td>\n      <td>1992</td>\n      <td>1</td>\n    </tr>\n    <tr>\n      <th>25452</th>\n      <td>t2_7ps3a</td>\n      <td>Handy/der Cloud speichern und in der Kamera ha...</td>\n      <td>1992</td>\n      <td>1</td>\n    </tr>\n    <tr>\n      <th>25453</th>\n      <td>t2_7ps3a</td>\n      <td>that. :)) On Google I cant find much informati...</td>\n      <td>1992</td>\n      <td>1</td>\n    </tr>\n    <tr>\n      <th>25454</th>\n      <td>t2_7ps3a</td>\n      <td>Liste eintragen lassen können, sobald sie vega...</td>\n      <td>1992</td>\n      <td>1</td>\n    </tr>\n  </tbody>\n</table>\n<p>25455 rows × 4 columns</p>\n</div>"
     },
     "execution_count": 4,
     "metadata": {},
     "output_type": "execute_result"
    }
   ],
   "source": [
    "# get the df with the posts, tokenized posts, birth years, and binary birth years\n",
    "df_birth_year = pd.read_csv('data/birth_year.csv')\n",
    "mil_and_genz = df_birth_year[(1986 < df_birth_year['birth_year']) & (df_birth_year['birth_year'] <= 2006)]\n",
    "mil_and_genz['binary_birth_year'] = 1\n",
    "mil_and_genz.loc[(1996 < mil_and_genz['birth_year']) & (mil_and_genz['birth_year'] <= 2006), 'binary_birth_year'] = 0\n",
    "mil_and_genz = mil_and_genz.reset_index(drop=True)\n",
    "mil_and_genz"
   ],
   "metadata": {
    "collapsed": false,
    "pycharm": {
     "name": "#%%\n"
    }
   }
  },
  {
   "cell_type": "code",
   "execution_count": 5,
   "outputs": [
    {
     "data": {
      "text/plain": "         auhtor_ID                                               post  \\\n0      t2_3oxdhcdy  is a very American mentality. I've watched a v...   \n1      t2_4o0e0ner  And if my boyfriend weren't monogamous then ma...   \n2        t2_15bomb  American exceptionalism. We French made a lot ...   \n3         t2_4qtxj  scenario B we spend more money between 8AM and...   \n4       t2_tyhwo4v  true. I was grateful for that. Ikr? It was lik...   \n...            ...                                                ...   \n19799  t2_5ujseot0  my opinion. She is kinda average. I just don’t...   \n19800     t2_kemu5  be special and different and stand out. She's ...   \n19801  t2_cleyisl8  all and knows nothing is probably the smarter ...   \n19802     t2_wepe1  because it's just a tool. Just like learning h...   \n19803  t2_1l4ajkzp  google search says they’re 6.4% of the US hous...   \n\n       birth_year  binary_birth_year  \n0            1999                  0  \n1            1996                  1  \n2            1998                  0  \n3            1997                  0  \n4            1997                  0  \n...           ...                ...  \n19799        1998                  0  \n19800        1997                  0  \n19801        1995                  1  \n19802        1987                  1  \n19803        1999                  0  \n\n[19804 rows x 4 columns]",
      "text/html": "<div>\n<style scoped>\n    .dataframe tbody tr th:only-of-type {\n        vertical-align: middle;\n    }\n\n    .dataframe tbody tr th {\n        vertical-align: top;\n    }\n\n    .dataframe thead th {\n        text-align: right;\n    }\n</style>\n<table border=\"1\" class=\"dataframe\">\n  <thead>\n    <tr style=\"text-align: right;\">\n      <th></th>\n      <th>auhtor_ID</th>\n      <th>post</th>\n      <th>birth_year</th>\n      <th>binary_birth_year</th>\n    </tr>\n  </thead>\n  <tbody>\n    <tr>\n      <th>0</th>\n      <td>t2_3oxdhcdy</td>\n      <td>is a very American mentality. I've watched a v...</td>\n      <td>1999</td>\n      <td>0</td>\n    </tr>\n    <tr>\n      <th>1</th>\n      <td>t2_4o0e0ner</td>\n      <td>And if my boyfriend weren't monogamous then ma...</td>\n      <td>1996</td>\n      <td>1</td>\n    </tr>\n    <tr>\n      <th>2</th>\n      <td>t2_15bomb</td>\n      <td>American exceptionalism. We French made a lot ...</td>\n      <td>1998</td>\n      <td>0</td>\n    </tr>\n    <tr>\n      <th>3</th>\n      <td>t2_4qtxj</td>\n      <td>scenario B we spend more money between 8AM and...</td>\n      <td>1997</td>\n      <td>0</td>\n    </tr>\n    <tr>\n      <th>4</th>\n      <td>t2_tyhwo4v</td>\n      <td>true. I was grateful for that. Ikr? It was lik...</td>\n      <td>1997</td>\n      <td>0</td>\n    </tr>\n    <tr>\n      <th>...</th>\n      <td>...</td>\n      <td>...</td>\n      <td>...</td>\n      <td>...</td>\n    </tr>\n    <tr>\n      <th>19799</th>\n      <td>t2_5ujseot0</td>\n      <td>my opinion. She is kinda average. I just don’t...</td>\n      <td>1998</td>\n      <td>0</td>\n    </tr>\n    <tr>\n      <th>19800</th>\n      <td>t2_kemu5</td>\n      <td>be special and different and stand out. She's ...</td>\n      <td>1997</td>\n      <td>0</td>\n    </tr>\n    <tr>\n      <th>19801</th>\n      <td>t2_cleyisl8</td>\n      <td>all and knows nothing is probably the smarter ...</td>\n      <td>1995</td>\n      <td>1</td>\n    </tr>\n    <tr>\n      <th>19802</th>\n      <td>t2_wepe1</td>\n      <td>because it's just a tool. Just like learning h...</td>\n      <td>1987</td>\n      <td>1</td>\n    </tr>\n    <tr>\n      <th>19803</th>\n      <td>t2_1l4ajkzp</td>\n      <td>google search says they’re 6.4% of the US hous...</td>\n      <td>1999</td>\n      <td>0</td>\n    </tr>\n  </tbody>\n</table>\n<p>19804 rows × 4 columns</p>\n</div>"
     },
     "execution_count": 5,
     "metadata": {},
     "output_type": "execute_result"
    }
   ],
   "source": [
    "# underample the minority class\n",
    "undersampled_df = pd.concat([\n",
    "    resample(mil_and_genz[mil_and_genz['binary_birth_year'] == 1],\n",
    "             replace=False,\n",
    "             n_samples=len(mil_and_genz[mil_and_genz['binary_birth_year'] == 0]),\n",
    "             random_state=42),\n",
    "    mil_and_genz[mil_and_genz['binary_birth_year'] == 0]\n",
    "])\n",
    "\n",
    "# shuffle the dataframe\n",
    "undersampled_df = undersampled_df.sample(frac=1, random_state=42).reset_index(drop=True)\n",
    "\n",
    "undersampled_df"
   ],
   "metadata": {
    "collapsed": false,
    "pycharm": {
     "name": "#%%\n"
    }
   }
  },
  {
   "cell_type": "code",
   "execution_count": 6,
   "outputs": [
    {
     "data": {
      "text/plain": "         auhtor_ID                                               post  \\\n0       t2_rnjzutp  Good on you for being responsible! I know self...   \n1       t2_rnjzutp  must go to the grocery store with their child,...   \n2       t2_rnjzutp  things on her videos, and YouTube took the vid...   \n3       t2_rnjzutp  their app. There's also a program called SYNC ...   \n4       t2_rnjzutp  side. If the cops don't take your side, you'll...   \n...            ...                                                ...   \n25450  t2_ef4dv976  clever political meme on a sub about political...   \n25451     t2_7ps3a  Kevin. Glück gehabt. I will try! Thank you! I ...   \n25452     t2_7ps3a  Handy/der Cloud speichern und in der Kamera ha...   \n25453     t2_7ps3a  that. :)) On Google I cant find much informati...   \n25454     t2_7ps3a  Liste eintragen lassen können, sobald sie vega...   \n\n       birth_year  binary_birth_year  \\\n0            2001                  0   \n1            2001                  0   \n2            2001                  0   \n3            2001                  0   \n4            2001                  0   \n...           ...                ...   \n25450        1989                  1   \n25451        1992                  1   \n25452        1992                  1   \n25453        1992                  1   \n25454        1992                  1   \n\n                                          post_tokenized  \n0      [Good, on, you, for, being, responsible, !, I,...  \n1      [must, go, to, the, grocery, store, with, thei...  \n2      [things, on, her, videos, ,, and, YouTube, too...  \n3      [their, app, ., There, ', s, also, a, program,...  \n4      [side, ., If, the, cops, don, ', t, take, your...  \n...                                                  ...  \n25450  [clever, political, meme, on, a, sub, about, p...  \n25451  [Kevin, ., Glück, gehabt, ., I, will, try, !, ...  \n25452  [Handy, /, der, Cloud, speichern, und, in, der...  \n25453  [that, ., :, ), ), On, Google, I, cant, find, ...  \n25454  [Liste, eintragen, lassen, können, ,, sobald, ...  \n\n[25455 rows x 5 columns]",
      "text/html": "<div>\n<style scoped>\n    .dataframe tbody tr th:only-of-type {\n        vertical-align: middle;\n    }\n\n    .dataframe tbody tr th {\n        vertical-align: top;\n    }\n\n    .dataframe thead th {\n        text-align: right;\n    }\n</style>\n<table border=\"1\" class=\"dataframe\">\n  <thead>\n    <tr style=\"text-align: right;\">\n      <th></th>\n      <th>auhtor_ID</th>\n      <th>post</th>\n      <th>birth_year</th>\n      <th>binary_birth_year</th>\n      <th>post_tokenized</th>\n    </tr>\n  </thead>\n  <tbody>\n    <tr>\n      <th>0</th>\n      <td>t2_rnjzutp</td>\n      <td>Good on you for being responsible! I know self...</td>\n      <td>2001</td>\n      <td>0</td>\n      <td>[Good, on, you, for, being, responsible, !, I,...</td>\n    </tr>\n    <tr>\n      <th>1</th>\n      <td>t2_rnjzutp</td>\n      <td>must go to the grocery store with their child,...</td>\n      <td>2001</td>\n      <td>0</td>\n      <td>[must, go, to, the, grocery, store, with, thei...</td>\n    </tr>\n    <tr>\n      <th>2</th>\n      <td>t2_rnjzutp</td>\n      <td>things on her videos, and YouTube took the vid...</td>\n      <td>2001</td>\n      <td>0</td>\n      <td>[things, on, her, videos, ,, and, YouTube, too...</td>\n    </tr>\n    <tr>\n      <th>3</th>\n      <td>t2_rnjzutp</td>\n      <td>their app. There's also a program called SYNC ...</td>\n      <td>2001</td>\n      <td>0</td>\n      <td>[their, app, ., There, ', s, also, a, program,...</td>\n    </tr>\n    <tr>\n      <th>4</th>\n      <td>t2_rnjzutp</td>\n      <td>side. If the cops don't take your side, you'll...</td>\n      <td>2001</td>\n      <td>0</td>\n      <td>[side, ., If, the, cops, don, ', t, take, your...</td>\n    </tr>\n    <tr>\n      <th>...</th>\n      <td>...</td>\n      <td>...</td>\n      <td>...</td>\n      <td>...</td>\n      <td>...</td>\n    </tr>\n    <tr>\n      <th>25450</th>\n      <td>t2_ef4dv976</td>\n      <td>clever political meme on a sub about political...</td>\n      <td>1989</td>\n      <td>1</td>\n      <td>[clever, political, meme, on, a, sub, about, p...</td>\n    </tr>\n    <tr>\n      <th>25451</th>\n      <td>t2_7ps3a</td>\n      <td>Kevin. Glück gehabt. I will try! Thank you! I ...</td>\n      <td>1992</td>\n      <td>1</td>\n      <td>[Kevin, ., Glück, gehabt, ., I, will, try, !, ...</td>\n    </tr>\n    <tr>\n      <th>25452</th>\n      <td>t2_7ps3a</td>\n      <td>Handy/der Cloud speichern und in der Kamera ha...</td>\n      <td>1992</td>\n      <td>1</td>\n      <td>[Handy, /, der, Cloud, speichern, und, in, der...</td>\n    </tr>\n    <tr>\n      <th>25453</th>\n      <td>t2_7ps3a</td>\n      <td>that. :)) On Google I cant find much informati...</td>\n      <td>1992</td>\n      <td>1</td>\n      <td>[that, ., :, ), ), On, Google, I, cant, find, ...</td>\n    </tr>\n    <tr>\n      <th>25454</th>\n      <td>t2_7ps3a</td>\n      <td>Liste eintragen lassen können, sobald sie vega...</td>\n      <td>1992</td>\n      <td>1</td>\n      <td>[Liste, eintragen, lassen, können, ,, sobald, ...</td>\n    </tr>\n  </tbody>\n</table>\n<p>25455 rows × 5 columns</p>\n</div>"
     },
     "execution_count": 6,
     "metadata": {},
     "output_type": "execute_result"
    }
   ],
   "source": [
    "# tokenization\n",
    "mil_and_genz['post_tokenized'] = mil_and_genz.post.str.findall('\\w+|[^\\w\\s]')\n",
    "mil_and_genz"
   ],
   "metadata": {
    "collapsed": false,
    "pycharm": {
     "name": "#%%\n"
    }
   }
  },
  {
   "cell_type": "code",
   "execution_count": 7,
   "outputs": [
    {
     "data": {
      "text/plain": "         auhtor_ID                                               post  \\\n0       t2_rnjzutp  Good on you for being responsible! I know self...   \n1       t2_rnjzutp  must go to the grocery store with their child,...   \n2       t2_rnjzutp  things on her videos, and YouTube took the vid...   \n3       t2_rnjzutp  their app. There's also a program called SYNC ...   \n4       t2_rnjzutp  side. If the cops don't take your side, you'll...   \n...            ...                                                ...   \n25450  t2_ef4dv976  clever political meme on a sub about political...   \n25451     t2_7ps3a  Kevin. Glück gehabt. I will try! Thank you! I ...   \n25452     t2_7ps3a  Handy/der Cloud speichern und in der Kamera ha...   \n25453     t2_7ps3a  that. :)) On Google I cant find much informati...   \n25454     t2_7ps3a  Liste eintragen lassen können, sobald sie vega...   \n\n       birth_year  binary_birth_year  \\\n0            2001                  0   \n1            2001                  0   \n2            2001                  0   \n3            2001                  0   \n4            2001                  0   \n...           ...                ...   \n25450        1989                  1   \n25451        1992                  1   \n25452        1992                  1   \n25453        1992                  1   \n25454        1992                  1   \n\n                                          post_tokenized  doc_length  \n0      [Good, on, you, for, being, responsible, !, I,...        1550  \n1      [must, go, to, the, grocery, store, with, thei...        1560  \n2      [things, on, her, videos, ,, and, YouTube, too...        1542  \n3      [their, app, ., There, ', s, also, a, program,...        1567  \n4      [side, ., If, the, cops, don, ', t, take, your...        1552  \n...                                                  ...         ...  \n25450  [clever, political, meme, on, a, sub, about, p...        1074  \n25451  [Kevin, ., Glück, gehabt, ., I, will, try, !, ...        1484  \n25452  [Handy, /, der, Cloud, speichern, und, in, der...        1490  \n25453  [that, ., :, ), ), On, Google, I, cant, find, ...        1504  \n25454  [Liste, eintragen, lassen, können, ,, sobald, ...         943  \n\n[25455 rows x 6 columns]",
      "text/html": "<div>\n<style scoped>\n    .dataframe tbody tr th:only-of-type {\n        vertical-align: middle;\n    }\n\n    .dataframe tbody tr th {\n        vertical-align: top;\n    }\n\n    .dataframe thead th {\n        text-align: right;\n    }\n</style>\n<table border=\"1\" class=\"dataframe\">\n  <thead>\n    <tr style=\"text-align: right;\">\n      <th></th>\n      <th>auhtor_ID</th>\n      <th>post</th>\n      <th>birth_year</th>\n      <th>binary_birth_year</th>\n      <th>post_tokenized</th>\n      <th>doc_length</th>\n    </tr>\n  </thead>\n  <tbody>\n    <tr>\n      <th>0</th>\n      <td>t2_rnjzutp</td>\n      <td>Good on you for being responsible! I know self...</td>\n      <td>2001</td>\n      <td>0</td>\n      <td>[Good, on, you, for, being, responsible, !, I,...</td>\n      <td>1550</td>\n    </tr>\n    <tr>\n      <th>1</th>\n      <td>t2_rnjzutp</td>\n      <td>must go to the grocery store with their child,...</td>\n      <td>2001</td>\n      <td>0</td>\n      <td>[must, go, to, the, grocery, store, with, thei...</td>\n      <td>1560</td>\n    </tr>\n    <tr>\n      <th>2</th>\n      <td>t2_rnjzutp</td>\n      <td>things on her videos, and YouTube took the vid...</td>\n      <td>2001</td>\n      <td>0</td>\n      <td>[things, on, her, videos, ,, and, YouTube, too...</td>\n      <td>1542</td>\n    </tr>\n    <tr>\n      <th>3</th>\n      <td>t2_rnjzutp</td>\n      <td>their app. There's also a program called SYNC ...</td>\n      <td>2001</td>\n      <td>0</td>\n      <td>[their, app, ., There, ', s, also, a, program,...</td>\n      <td>1567</td>\n    </tr>\n    <tr>\n      <th>4</th>\n      <td>t2_rnjzutp</td>\n      <td>side. If the cops don't take your side, you'll...</td>\n      <td>2001</td>\n      <td>0</td>\n      <td>[side, ., If, the, cops, don, ', t, take, your...</td>\n      <td>1552</td>\n    </tr>\n    <tr>\n      <th>...</th>\n      <td>...</td>\n      <td>...</td>\n      <td>...</td>\n      <td>...</td>\n      <td>...</td>\n      <td>...</td>\n    </tr>\n    <tr>\n      <th>25450</th>\n      <td>t2_ef4dv976</td>\n      <td>clever political meme on a sub about political...</td>\n      <td>1989</td>\n      <td>1</td>\n      <td>[clever, political, meme, on, a, sub, about, p...</td>\n      <td>1074</td>\n    </tr>\n    <tr>\n      <th>25451</th>\n      <td>t2_7ps3a</td>\n      <td>Kevin. Glück gehabt. I will try! Thank you! I ...</td>\n      <td>1992</td>\n      <td>1</td>\n      <td>[Kevin, ., Glück, gehabt, ., I, will, try, !, ...</td>\n      <td>1484</td>\n    </tr>\n    <tr>\n      <th>25452</th>\n      <td>t2_7ps3a</td>\n      <td>Handy/der Cloud speichern und in der Kamera ha...</td>\n      <td>1992</td>\n      <td>1</td>\n      <td>[Handy, /, der, Cloud, speichern, und, in, der...</td>\n      <td>1490</td>\n    </tr>\n    <tr>\n      <th>25453</th>\n      <td>t2_7ps3a</td>\n      <td>that. :)) On Google I cant find much informati...</td>\n      <td>1992</td>\n      <td>1</td>\n      <td>[that, ., :, ), ), On, Google, I, cant, find, ...</td>\n      <td>1504</td>\n    </tr>\n    <tr>\n      <th>25454</th>\n      <td>t2_7ps3a</td>\n      <td>Liste eintragen lassen können, sobald sie vega...</td>\n      <td>1992</td>\n      <td>1</td>\n      <td>[Liste, eintragen, lassen, können, ,, sobald, ...</td>\n      <td>943</td>\n    </tr>\n  </tbody>\n</table>\n<p>25455 rows × 6 columns</p>\n</div>"
     },
     "execution_count": 7,
     "metadata": {},
     "output_type": "execute_result"
    }
   ],
   "source": [
    "# document length\n",
    "def count_words(tokens):\n",
    "    return sum(1 for token in tokens if token.isalpha())\n",
    "mil_and_genz['doc_length'] = mil_and_genz['post_tokenized'].apply(count_words)\n",
    "mil_and_genz"
   ],
   "metadata": {
    "collapsed": false,
    "pycharm": {
     "name": "#%%\n"
    }
   }
  },
  {
   "cell_type": "code",
   "execution_count": 8,
   "outputs": [
    {
     "data": {
      "text/plain": "         auhtor_ID                                               post  \\\n0       t2_rnjzutp  Good on you for being responsible! I know self...   \n1       t2_rnjzutp  must go to the grocery store with their child,...   \n2       t2_rnjzutp  things on her videos, and YouTube took the vid...   \n3       t2_rnjzutp  their app. There's also a program called SYNC ...   \n4       t2_rnjzutp  side. If the cops don't take your side, you'll...   \n...            ...                                                ...   \n25450  t2_ef4dv976  clever political meme on a sub about political...   \n25451     t2_7ps3a  Kevin. Glück gehabt. I will try! Thank you! I ...   \n25452     t2_7ps3a  Handy/der Cloud speichern und in der Kamera ha...   \n25453     t2_7ps3a  that. :)) On Google I cant find much informati...   \n25454     t2_7ps3a  Liste eintragen lassen können, sobald sie vega...   \n\n       birth_year  binary_birth_year  \\\n0            2001                  0   \n1            2001                  0   \n2            2001                  0   \n3            2001                  0   \n4            2001                  0   \n...           ...                ...   \n25450        1989                  1   \n25451        1992                  1   \n25452        1992                  1   \n25453        1992                  1   \n25454        1992                  1   \n\n                                          post_tokenized  doc_length  nr_sent  \n0      [Good, on, you, for, being, responsible, !, I,...        1550       79  \n1      [must, go, to, the, grocery, store, with, thei...        1560       95  \n2      [things, on, her, videos, ,, and, YouTube, too...        1542       83  \n3      [their, app, ., There, ', s, also, a, program,...        1567       83  \n4      [side, ., If, the, cops, don, ', t, take, your...        1552       89  \n...                                                  ...         ...      ...  \n25450  [clever, political, meme, on, a, sub, about, p...        1074       62  \n25451  [Kevin, ., Glück, gehabt, ., I, will, try, !, ...        1484      122  \n25452  [Handy, /, der, Cloud, speichern, und, in, der...        1490      108  \n25453  [that, ., :, ), ), On, Google, I, cant, find, ...        1504       96  \n25454  [Liste, eintragen, lassen, können, ,, sobald, ...         943       73  \n\n[25455 rows x 7 columns]",
      "text/html": "<div>\n<style scoped>\n    .dataframe tbody tr th:only-of-type {\n        vertical-align: middle;\n    }\n\n    .dataframe tbody tr th {\n        vertical-align: top;\n    }\n\n    .dataframe thead th {\n        text-align: right;\n    }\n</style>\n<table border=\"1\" class=\"dataframe\">\n  <thead>\n    <tr style=\"text-align: right;\">\n      <th></th>\n      <th>auhtor_ID</th>\n      <th>post</th>\n      <th>birth_year</th>\n      <th>binary_birth_year</th>\n      <th>post_tokenized</th>\n      <th>doc_length</th>\n      <th>nr_sent</th>\n    </tr>\n  </thead>\n  <tbody>\n    <tr>\n      <th>0</th>\n      <td>t2_rnjzutp</td>\n      <td>Good on you for being responsible! I know self...</td>\n      <td>2001</td>\n      <td>0</td>\n      <td>[Good, on, you, for, being, responsible, !, I,...</td>\n      <td>1550</td>\n      <td>79</td>\n    </tr>\n    <tr>\n      <th>1</th>\n      <td>t2_rnjzutp</td>\n      <td>must go to the grocery store with their child,...</td>\n      <td>2001</td>\n      <td>0</td>\n      <td>[must, go, to, the, grocery, store, with, thei...</td>\n      <td>1560</td>\n      <td>95</td>\n    </tr>\n    <tr>\n      <th>2</th>\n      <td>t2_rnjzutp</td>\n      <td>things on her videos, and YouTube took the vid...</td>\n      <td>2001</td>\n      <td>0</td>\n      <td>[things, on, her, videos, ,, and, YouTube, too...</td>\n      <td>1542</td>\n      <td>83</td>\n    </tr>\n    <tr>\n      <th>3</th>\n      <td>t2_rnjzutp</td>\n      <td>their app. There's also a program called SYNC ...</td>\n      <td>2001</td>\n      <td>0</td>\n      <td>[their, app, ., There, ', s, also, a, program,...</td>\n      <td>1567</td>\n      <td>83</td>\n    </tr>\n    <tr>\n      <th>4</th>\n      <td>t2_rnjzutp</td>\n      <td>side. If the cops don't take your side, you'll...</td>\n      <td>2001</td>\n      <td>0</td>\n      <td>[side, ., If, the, cops, don, ', t, take, your...</td>\n      <td>1552</td>\n      <td>89</td>\n    </tr>\n    <tr>\n      <th>...</th>\n      <td>...</td>\n      <td>...</td>\n      <td>...</td>\n      <td>...</td>\n      <td>...</td>\n      <td>...</td>\n      <td>...</td>\n    </tr>\n    <tr>\n      <th>25450</th>\n      <td>t2_ef4dv976</td>\n      <td>clever political meme on a sub about political...</td>\n      <td>1989</td>\n      <td>1</td>\n      <td>[clever, political, meme, on, a, sub, about, p...</td>\n      <td>1074</td>\n      <td>62</td>\n    </tr>\n    <tr>\n      <th>25451</th>\n      <td>t2_7ps3a</td>\n      <td>Kevin. Glück gehabt. I will try! Thank you! I ...</td>\n      <td>1992</td>\n      <td>1</td>\n      <td>[Kevin, ., Glück, gehabt, ., I, will, try, !, ...</td>\n      <td>1484</td>\n      <td>122</td>\n    </tr>\n    <tr>\n      <th>25452</th>\n      <td>t2_7ps3a</td>\n      <td>Handy/der Cloud speichern und in der Kamera ha...</td>\n      <td>1992</td>\n      <td>1</td>\n      <td>[Handy, /, der, Cloud, speichern, und, in, der...</td>\n      <td>1490</td>\n      <td>108</td>\n    </tr>\n    <tr>\n      <th>25453</th>\n      <td>t2_7ps3a</td>\n      <td>that. :)) On Google I cant find much informati...</td>\n      <td>1992</td>\n      <td>1</td>\n      <td>[that, ., :, ), ), On, Google, I, cant, find, ...</td>\n      <td>1504</td>\n      <td>96</td>\n    </tr>\n    <tr>\n      <th>25454</th>\n      <td>t2_7ps3a</td>\n      <td>Liste eintragen lassen können, sobald sie vega...</td>\n      <td>1992</td>\n      <td>1</td>\n      <td>[Liste, eintragen, lassen, können, ,, sobald, ...</td>\n      <td>943</td>\n      <td>73</td>\n    </tr>\n  </tbody>\n</table>\n<p>25455 rows × 7 columns</p>\n</div>"
     },
     "execution_count": 8,
     "metadata": {},
     "output_type": "execute_result"
    }
   ],
   "source": [
    "# number of sentences\n",
    "mil_and_genz['nr_sent'] = [len(nltk.sent_tokenize(text)) for text in mil_and_genz['post']]\n",
    "mil_and_genz"
   ],
   "metadata": {
    "collapsed": false,
    "pycharm": {
     "name": "#%%\n"
    }
   }
  },
  {
   "cell_type": "code",
   "execution_count": 9,
   "outputs": [
    {
     "data": {
      "text/plain": "         auhtor_ID                                               post  \\\n0       t2_rnjzutp  Good on you for being responsible! I know self...   \n1       t2_rnjzutp  must go to the grocery store with their child,...   \n2       t2_rnjzutp  things on her videos, and YouTube took the vid...   \n3       t2_rnjzutp  their app. There's also a program called SYNC ...   \n4       t2_rnjzutp  side. If the cops don't take your side, you'll...   \n...            ...                                                ...   \n25450  t2_ef4dv976  clever political meme on a sub about political...   \n25451     t2_7ps3a  Kevin. Glück gehabt. I will try! Thank you! I ...   \n25452     t2_7ps3a  Handy/der Cloud speichern und in der Kamera ha...   \n25453     t2_7ps3a  that. :)) On Google I cant find much informati...   \n25454     t2_7ps3a  Liste eintragen lassen können, sobald sie vega...   \n\n       birth_year  binary_birth_year  \\\n0            2001                  0   \n1            2001                  0   \n2            2001                  0   \n3            2001                  0   \n4            2001                  0   \n...           ...                ...   \n25450        1989                  1   \n25451        1992                  1   \n25452        1992                  1   \n25453        1992                  1   \n25454        1992                  1   \n\n                                          post_tokenized  doc_length  nr_sent  \\\n0      [Good, on, you, for, being, responsible, !, I,...        1550       79   \n1      [must, go, to, the, grocery, store, with, thei...        1560       95   \n2      [things, on, her, videos, ,, and, YouTube, too...        1542       83   \n3      [their, app, ., There, ', s, also, a, program,...        1567       83   \n4      [side, ., If, the, cops, don, ', t, take, your...        1552       89   \n...                                                  ...         ...      ...   \n25450  [clever, political, meme, on, a, sub, about, p...        1074       62   \n25451  [Kevin, ., Glück, gehabt, ., I, will, try, !, ...        1484      122   \n25452  [Handy, /, der, Cloud, speichern, und, in, der...        1490      108   \n25453  [that, ., :, ), ), On, Google, I, cant, find, ...        1504       96   \n25454  [Liste, eintragen, lassen, können, ,, sobald, ...         943       73   \n\n       avg_sentence_length  \n0                18.746835  \n1                15.694737  \n2                17.879518  \n3                17.879518  \n4                16.730337  \n...                    ...  \n25450            16.935484  \n25451            11.926230  \n25452            13.407407  \n25453            15.114583  \n25454            12.767123  \n\n[25455 rows x 8 columns]",
      "text/html": "<div>\n<style scoped>\n    .dataframe tbody tr th:only-of-type {\n        vertical-align: middle;\n    }\n\n    .dataframe tbody tr th {\n        vertical-align: top;\n    }\n\n    .dataframe thead th {\n        text-align: right;\n    }\n</style>\n<table border=\"1\" class=\"dataframe\">\n  <thead>\n    <tr style=\"text-align: right;\">\n      <th></th>\n      <th>auhtor_ID</th>\n      <th>post</th>\n      <th>birth_year</th>\n      <th>binary_birth_year</th>\n      <th>post_tokenized</th>\n      <th>doc_length</th>\n      <th>nr_sent</th>\n      <th>avg_sentence_length</th>\n    </tr>\n  </thead>\n  <tbody>\n    <tr>\n      <th>0</th>\n      <td>t2_rnjzutp</td>\n      <td>Good on you for being responsible! I know self...</td>\n      <td>2001</td>\n      <td>0</td>\n      <td>[Good, on, you, for, being, responsible, !, I,...</td>\n      <td>1550</td>\n      <td>79</td>\n      <td>18.746835</td>\n    </tr>\n    <tr>\n      <th>1</th>\n      <td>t2_rnjzutp</td>\n      <td>must go to the grocery store with their child,...</td>\n      <td>2001</td>\n      <td>0</td>\n      <td>[must, go, to, the, grocery, store, with, thei...</td>\n      <td>1560</td>\n      <td>95</td>\n      <td>15.694737</td>\n    </tr>\n    <tr>\n      <th>2</th>\n      <td>t2_rnjzutp</td>\n      <td>things on her videos, and YouTube took the vid...</td>\n      <td>2001</td>\n      <td>0</td>\n      <td>[things, on, her, videos, ,, and, YouTube, too...</td>\n      <td>1542</td>\n      <td>83</td>\n      <td>17.879518</td>\n    </tr>\n    <tr>\n      <th>3</th>\n      <td>t2_rnjzutp</td>\n      <td>their app. There's also a program called SYNC ...</td>\n      <td>2001</td>\n      <td>0</td>\n      <td>[their, app, ., There, ', s, also, a, program,...</td>\n      <td>1567</td>\n      <td>83</td>\n      <td>17.879518</td>\n    </tr>\n    <tr>\n      <th>4</th>\n      <td>t2_rnjzutp</td>\n      <td>side. If the cops don't take your side, you'll...</td>\n      <td>2001</td>\n      <td>0</td>\n      <td>[side, ., If, the, cops, don, ', t, take, your...</td>\n      <td>1552</td>\n      <td>89</td>\n      <td>16.730337</td>\n    </tr>\n    <tr>\n      <th>...</th>\n      <td>...</td>\n      <td>...</td>\n      <td>...</td>\n      <td>...</td>\n      <td>...</td>\n      <td>...</td>\n      <td>...</td>\n      <td>...</td>\n    </tr>\n    <tr>\n      <th>25450</th>\n      <td>t2_ef4dv976</td>\n      <td>clever political meme on a sub about political...</td>\n      <td>1989</td>\n      <td>1</td>\n      <td>[clever, political, meme, on, a, sub, about, p...</td>\n      <td>1074</td>\n      <td>62</td>\n      <td>16.935484</td>\n    </tr>\n    <tr>\n      <th>25451</th>\n      <td>t2_7ps3a</td>\n      <td>Kevin. Glück gehabt. I will try! Thank you! I ...</td>\n      <td>1992</td>\n      <td>1</td>\n      <td>[Kevin, ., Glück, gehabt, ., I, will, try, !, ...</td>\n      <td>1484</td>\n      <td>122</td>\n      <td>11.926230</td>\n    </tr>\n    <tr>\n      <th>25452</th>\n      <td>t2_7ps3a</td>\n      <td>Handy/der Cloud speichern und in der Kamera ha...</td>\n      <td>1992</td>\n      <td>1</td>\n      <td>[Handy, /, der, Cloud, speichern, und, in, der...</td>\n      <td>1490</td>\n      <td>108</td>\n      <td>13.407407</td>\n    </tr>\n    <tr>\n      <th>25453</th>\n      <td>t2_7ps3a</td>\n      <td>that. :)) On Google I cant find much informati...</td>\n      <td>1992</td>\n      <td>1</td>\n      <td>[that, ., :, ), ), On, Google, I, cant, find, ...</td>\n      <td>1504</td>\n      <td>96</td>\n      <td>15.114583</td>\n    </tr>\n    <tr>\n      <th>25454</th>\n      <td>t2_7ps3a</td>\n      <td>Liste eintragen lassen können, sobald sie vega...</td>\n      <td>1992</td>\n      <td>1</td>\n      <td>[Liste, eintragen, lassen, können, ,, sobald, ...</td>\n      <td>943</td>\n      <td>73</td>\n      <td>12.767123</td>\n    </tr>\n  </tbody>\n</table>\n<p>25455 rows × 8 columns</p>\n</div>"
     },
     "execution_count": 9,
     "metadata": {},
     "output_type": "execute_result"
    }
   ],
   "source": [
    "# sentence length\n",
    "mil_and_genz['avg_sentence_length'] = mil_and_genz['post'].apply(lambda text:\n",
    "    sum(1 for sentence in sent_tokenize(text) for word in word_tokenize(sentence) if word.isalpha()) /\n",
    "    max(1, len(sent_tokenize(text)))\n",
    ")\n",
    "mil_and_genz"
   ],
   "metadata": {
    "collapsed": false,
    "pycharm": {
     "name": "#%%\n"
    }
   }
  },
  {
   "cell_type": "code",
   "execution_count": 10,
   "outputs": [],
   "source": [
    "# still need to do stopwords, punctuation, and POS tagging.\n",
    "# just say for every important word/tag/symbol make diff col and count nr times it is present?"
   ],
   "metadata": {
    "collapsed": false,
    "pycharm": {
     "name": "#%%\n"
    }
   }
  },
  {
   "cell_type": "code",
   "execution_count": 12,
   "outputs": [
    {
     "data": {
      "text/plain": "         auhtor_ID                                               post  \\\n0       t2_rnjzutp  Good on you for being responsible! I know self...   \n1       t2_rnjzutp  must go to the grocery store with their child,...   \n2       t2_rnjzutp  things on her videos, and YouTube took the vid...   \n3       t2_rnjzutp  their app. There's also a program called SYNC ...   \n4       t2_rnjzutp  side. If the cops don't take your side, you'll...   \n...            ...                                                ...   \n25450  t2_ef4dv976  clever political meme on a sub about political...   \n25451     t2_7ps3a  Kevin. Glück gehabt. I will try! Thank you! I ...   \n25452     t2_7ps3a  Handy/der Cloud speichern und in der Kamera ha...   \n25453     t2_7ps3a  that. :)) On Google I cant find much informati...   \n25454     t2_7ps3a  Liste eintragen lassen können, sobald sie vega...   \n\n       birth_year  binary_birth_year  \\\n0            2001                  0   \n1            2001                  0   \n2            2001                  0   \n3            2001                  0   \n4            2001                  0   \n...           ...                ...   \n25450        1989                  1   \n25451        1992                  1   \n25452        1992                  1   \n25453        1992                  1   \n25454        1992                  1   \n\n                                          post_tokenized  doc_length  nr_sent  \\\n0      [Good, on, you, for, being, responsible, !, I,...        1550       79   \n1      [must, go, to, the, grocery, store, with, thei...        1560       95   \n2      [things, on, her, videos, ,, and, YouTube, too...        1542       83   \n3      [their, app, ., There, ', s, also, a, program,...        1567       83   \n4      [side, ., If, the, cops, don, ', t, take, your...        1552       89   \n...                                                  ...         ...      ...   \n25450  [clever, political, meme, on, a, sub, about, p...        1074       62   \n25451  [Kevin, ., Glück, gehabt, ., I, will, try, !, ...        1484      122   \n25452  [Handy, /, der, Cloud, speichern, und, in, der...        1490      108   \n25453  [that, ., :, ), ), On, Google, I, cant, find, ...        1504       96   \n25454  [Liste, eintragen, lassen, können, ,, sobald, ...         943       73   \n\n       avg_sentence_length                                           pos_tags  \n0                18.746835  {'JJ': 104, 'IN': 172, 'PRP': 133, 'VBG': 48, ...  \n1                15.694737  {'MD': 30, 'VB': 104, 'TO': 53, 'DT': 129, 'NN...  \n2                17.879518  {'NNS': 86, 'IN': 169, 'PRP$': 55, 'NN': 223, ...  \n3                17.879518  {'PRP$': 44, 'NN': 233, '.': 83, 'EX': 5, ''''...  \n4                16.730337  {'NN': 246, '.': 88, 'IN': 175, 'DT': 125, 'NN...  \n...                    ...                                                ...  \n25450            16.935484  {'RB': 49, 'JJ': 108, 'NN': 177, 'IN': 130, 'D...  \n25451            11.926230  {'NNP': 273, '.': 127, 'NN': 484, 'PRP': 74, '...  \n25452            13.407407  {'NNP': 307, 'NN': 451, 'IN': 89, 'JJ': 150, '...  \n25453            15.114583  {'DT': 14, '.': 98, ':': 59, ')': 14, 'IN': 52...  \n25454            12.767123  {'NNP': 279, 'NN': 379, ',': 43, 'JJ': 151, 'I...  \n\n[25455 rows x 9 columns]",
      "text/html": "<div>\n<style scoped>\n    .dataframe tbody tr th:only-of-type {\n        vertical-align: middle;\n    }\n\n    .dataframe tbody tr th {\n        vertical-align: top;\n    }\n\n    .dataframe thead th {\n        text-align: right;\n    }\n</style>\n<table border=\"1\" class=\"dataframe\">\n  <thead>\n    <tr style=\"text-align: right;\">\n      <th></th>\n      <th>auhtor_ID</th>\n      <th>post</th>\n      <th>birth_year</th>\n      <th>binary_birth_year</th>\n      <th>post_tokenized</th>\n      <th>doc_length</th>\n      <th>nr_sent</th>\n      <th>avg_sentence_length</th>\n      <th>pos_tags</th>\n    </tr>\n  </thead>\n  <tbody>\n    <tr>\n      <th>0</th>\n      <td>t2_rnjzutp</td>\n      <td>Good on you for being responsible! I know self...</td>\n      <td>2001</td>\n      <td>0</td>\n      <td>[Good, on, you, for, being, responsible, !, I,...</td>\n      <td>1550</td>\n      <td>79</td>\n      <td>18.746835</td>\n      <td>{'JJ': 104, 'IN': 172, 'PRP': 133, 'VBG': 48, ...</td>\n    </tr>\n    <tr>\n      <th>1</th>\n      <td>t2_rnjzutp</td>\n      <td>must go to the grocery store with their child,...</td>\n      <td>2001</td>\n      <td>0</td>\n      <td>[must, go, to, the, grocery, store, with, thei...</td>\n      <td>1560</td>\n      <td>95</td>\n      <td>15.694737</td>\n      <td>{'MD': 30, 'VB': 104, 'TO': 53, 'DT': 129, 'NN...</td>\n    </tr>\n    <tr>\n      <th>2</th>\n      <td>t2_rnjzutp</td>\n      <td>things on her videos, and YouTube took the vid...</td>\n      <td>2001</td>\n      <td>0</td>\n      <td>[things, on, her, videos, ,, and, YouTube, too...</td>\n      <td>1542</td>\n      <td>83</td>\n      <td>17.879518</td>\n      <td>{'NNS': 86, 'IN': 169, 'PRP$': 55, 'NN': 223, ...</td>\n    </tr>\n    <tr>\n      <th>3</th>\n      <td>t2_rnjzutp</td>\n      <td>their app. There's also a program called SYNC ...</td>\n      <td>2001</td>\n      <td>0</td>\n      <td>[their, app, ., There, ', s, also, a, program,...</td>\n      <td>1567</td>\n      <td>83</td>\n      <td>17.879518</td>\n      <td>{'PRP$': 44, 'NN': 233, '.': 83, 'EX': 5, ''''...</td>\n    </tr>\n    <tr>\n      <th>4</th>\n      <td>t2_rnjzutp</td>\n      <td>side. If the cops don't take your side, you'll...</td>\n      <td>2001</td>\n      <td>0</td>\n      <td>[side, ., If, the, cops, don, ', t, take, your...</td>\n      <td>1552</td>\n      <td>89</td>\n      <td>16.730337</td>\n      <td>{'NN': 246, '.': 88, 'IN': 175, 'DT': 125, 'NN...</td>\n    </tr>\n    <tr>\n      <th>...</th>\n      <td>...</td>\n      <td>...</td>\n      <td>...</td>\n      <td>...</td>\n      <td>...</td>\n      <td>...</td>\n      <td>...</td>\n      <td>...</td>\n      <td>...</td>\n    </tr>\n    <tr>\n      <th>25450</th>\n      <td>t2_ef4dv976</td>\n      <td>clever political meme on a sub about political...</td>\n      <td>1989</td>\n      <td>1</td>\n      <td>[clever, political, meme, on, a, sub, about, p...</td>\n      <td>1074</td>\n      <td>62</td>\n      <td>16.935484</td>\n      <td>{'RB': 49, 'JJ': 108, 'NN': 177, 'IN': 130, 'D...</td>\n    </tr>\n    <tr>\n      <th>25451</th>\n      <td>t2_7ps3a</td>\n      <td>Kevin. Glück gehabt. I will try! Thank you! I ...</td>\n      <td>1992</td>\n      <td>1</td>\n      <td>[Kevin, ., Glück, gehabt, ., I, will, try, !, ...</td>\n      <td>1484</td>\n      <td>122</td>\n      <td>11.926230</td>\n      <td>{'NNP': 273, '.': 127, 'NN': 484, 'PRP': 74, '...</td>\n    </tr>\n    <tr>\n      <th>25452</th>\n      <td>t2_7ps3a</td>\n      <td>Handy/der Cloud speichern und in der Kamera ha...</td>\n      <td>1992</td>\n      <td>1</td>\n      <td>[Handy, /, der, Cloud, speichern, und, in, der...</td>\n      <td>1490</td>\n      <td>108</td>\n      <td>13.407407</td>\n      <td>{'NNP': 307, 'NN': 451, 'IN': 89, 'JJ': 150, '...</td>\n    </tr>\n    <tr>\n      <th>25453</th>\n      <td>t2_7ps3a</td>\n      <td>that. :)) On Google I cant find much informati...</td>\n      <td>1992</td>\n      <td>1</td>\n      <td>[that, ., :, ), ), On, Google, I, cant, find, ...</td>\n      <td>1504</td>\n      <td>96</td>\n      <td>15.114583</td>\n      <td>{'DT': 14, '.': 98, ':': 59, ')': 14, 'IN': 52...</td>\n    </tr>\n    <tr>\n      <th>25454</th>\n      <td>t2_7ps3a</td>\n      <td>Liste eintragen lassen können, sobald sie vega...</td>\n      <td>1992</td>\n      <td>1</td>\n      <td>[Liste, eintragen, lassen, können, ,, sobald, ...</td>\n      <td>943</td>\n      <td>73</td>\n      <td>12.767123</td>\n      <td>{'NNP': 279, 'NN': 379, ',': 43, 'JJ': 151, 'I...</td>\n    </tr>\n  </tbody>\n</table>\n<p>25455 rows × 9 columns</p>\n</div>"
     },
     "execution_count": 12,
     "metadata": {},
     "output_type": "execute_result"
    }
   ],
   "source": [
    "# pos tag\n",
    "def get_pos_tags(tokenized_post):\n",
    "    pos_tags = pos_tag(tokenized_post) # maybe test .isaplha() ???\n",
    "    pos_counts = {}\n",
    "    for _, tag in pos_tags:\n",
    "        pos_counts[tag] = pos_counts.get(tag, 0) + 1\n",
    "    return pos_counts\n",
    "\n",
    "# Apply the function to each post in the DataFrame\n",
    "mil_and_genz['pos_tags'] = mil_and_genz['post_tokenized'].apply(get_pos_tags)\n",
    "mil_and_genz"
   ],
   "metadata": {
    "collapsed": false,
    "pycharm": {
     "name": "#%%\n"
    }
   }
  },
  {
   "cell_type": "code",
   "execution_count": 13,
   "outputs": [],
   "source": [
    "def count_occurrences(row, stopword):\n",
    "    tokens = [token.lower() for token in row['post_tokenized']]\n",
    "    return tokens.count(stopword.lower())"
   ],
   "metadata": {
    "collapsed": false,
    "pycharm": {
     "name": "#%%\n"
    }
   }
  },
  {
   "cell_type": "code",
   "execution_count": 16,
   "outputs": [
    {
     "data": {
      "text/plain": "         auhtor_ID                                               post  \\\n0       t2_rnjzutp  Good on you for being responsible! I know self...   \n1       t2_rnjzutp  must go to the grocery store with their child,...   \n2       t2_rnjzutp  things on her videos, and YouTube took the vid...   \n3       t2_rnjzutp  their app. There's also a program called SYNC ...   \n4       t2_rnjzutp  side. If the cops don't take your side, you'll...   \n...            ...                                                ...   \n25450  t2_ef4dv976  clever political meme on a sub about political...   \n25451     t2_7ps3a  Kevin. Glück gehabt. I will try! Thank you! I ...   \n25452     t2_7ps3a  Handy/der Cloud speichern und in der Kamera ha...   \n25453     t2_7ps3a  that. :)) On Google I cant find much informati...   \n25454     t2_7ps3a  Liste eintragen lassen können, sobald sie vega...   \n\n       birth_year  binary_birth_year  \\\n0            2001                  0   \n1            2001                  0   \n2            2001                  0   \n3            2001                  0   \n4            2001                  0   \n...           ...                ...   \n25450        1989                  1   \n25451        1992                  1   \n25452        1992                  1   \n25453        1992                  1   \n25454        1992                  1   \n\n                                          post_tokenized  doc_length  nr_sent  \\\n0      [Good, on, you, for, being, responsible, !, I,...        1550       79   \n1      [must, go, to, the, grocery, store, with, thei...        1560       95   \n2      [things, on, her, videos, ,, and, YouTube, too...        1542       83   \n3      [their, app, ., There, ', s, also, a, program,...        1567       83   \n4      [side, ., If, the, cops, don, ', t, take, your...        1552       89   \n...                                                  ...         ...      ...   \n25450  [clever, political, meme, on, a, sub, about, p...        1074       62   \n25451  [Kevin, ., Glück, gehabt, ., I, will, try, !, ...        1484      122   \n25452  [Handy, /, der, Cloud, speichern, und, in, der...        1490      108   \n25453  [that, ., :, ), ), On, Google, I, cant, find, ...        1504       96   \n25454  [Liste, eintragen, lassen, können, ,, sobald, ...         943       73   \n\n       avg_sentence_length                                           pos_tags  \\\n0                18.746835  {'JJ': 104, 'IN': 172, 'PRP': 133, 'VBG': 48, ...   \n1                15.694737  {'MD': 30, 'VB': 104, 'TO': 53, 'DT': 129, 'NN...   \n2                17.879518  {'NNS': 86, 'IN': 169, 'PRP$': 55, 'NN': 223, ...   \n3                17.879518  {'PRP$': 44, 'NN': 233, '.': 83, 'EX': 5, ''''...   \n4                16.730337  {'NN': 246, '.': 88, 'IN': 175, 'DT': 125, 'NN...   \n...                    ...                                                ...   \n25450            16.935484  {'RB': 49, 'JJ': 108, 'NN': 177, 'IN': 130, 'D...   \n25451            11.926230  {'NNP': 273, '.': 127, 'NN': 484, 'PRP': 74, '...   \n25452            13.407407  {'NNP': 307, 'NN': 451, 'IN': 89, 'JJ': 150, '...   \n25453            15.114583  {'DT': 14, '.': 98, ':': 59, ')': 14, 'IN': 52...   \n25454            12.767123  {'NNP': 279, 'NN': 379, ',': 43, 'JJ': 151, 'I...   \n\n       count_a  count_and  count_you  count_is  \n0           31         43         20        28  \n1           24         54         31        17  \n2           33         42         41        23  \n3           36         36         31         9  \n4           47         43         34        23  \n...        ...        ...        ...       ...  \n25450       21         23         18        18  \n25451       20         29         16         9  \n25452       18         19          5         4  \n25453        4          3          3         1  \n25454        0          0          0         1  \n\n[25455 rows x 13 columns]",
      "text/html": "<div>\n<style scoped>\n    .dataframe tbody tr th:only-of-type {\n        vertical-align: middle;\n    }\n\n    .dataframe tbody tr th {\n        vertical-align: top;\n    }\n\n    .dataframe thead th {\n        text-align: right;\n    }\n</style>\n<table border=\"1\" class=\"dataframe\">\n  <thead>\n    <tr style=\"text-align: right;\">\n      <th></th>\n      <th>auhtor_ID</th>\n      <th>post</th>\n      <th>birth_year</th>\n      <th>binary_birth_year</th>\n      <th>post_tokenized</th>\n      <th>doc_length</th>\n      <th>nr_sent</th>\n      <th>avg_sentence_length</th>\n      <th>pos_tags</th>\n      <th>count_a</th>\n      <th>count_and</th>\n      <th>count_you</th>\n      <th>count_is</th>\n    </tr>\n  </thead>\n  <tbody>\n    <tr>\n      <th>0</th>\n      <td>t2_rnjzutp</td>\n      <td>Good on you for being responsible! I know self...</td>\n      <td>2001</td>\n      <td>0</td>\n      <td>[Good, on, you, for, being, responsible, !, I,...</td>\n      <td>1550</td>\n      <td>79</td>\n      <td>18.746835</td>\n      <td>{'JJ': 104, 'IN': 172, 'PRP': 133, 'VBG': 48, ...</td>\n      <td>31</td>\n      <td>43</td>\n      <td>20</td>\n      <td>28</td>\n    </tr>\n    <tr>\n      <th>1</th>\n      <td>t2_rnjzutp</td>\n      <td>must go to the grocery store with their child,...</td>\n      <td>2001</td>\n      <td>0</td>\n      <td>[must, go, to, the, grocery, store, with, thei...</td>\n      <td>1560</td>\n      <td>95</td>\n      <td>15.694737</td>\n      <td>{'MD': 30, 'VB': 104, 'TO': 53, 'DT': 129, 'NN...</td>\n      <td>24</td>\n      <td>54</td>\n      <td>31</td>\n      <td>17</td>\n    </tr>\n    <tr>\n      <th>2</th>\n      <td>t2_rnjzutp</td>\n      <td>things on her videos, and YouTube took the vid...</td>\n      <td>2001</td>\n      <td>0</td>\n      <td>[things, on, her, videos, ,, and, YouTube, too...</td>\n      <td>1542</td>\n      <td>83</td>\n      <td>17.879518</td>\n      <td>{'NNS': 86, 'IN': 169, 'PRP$': 55, 'NN': 223, ...</td>\n      <td>33</td>\n      <td>42</td>\n      <td>41</td>\n      <td>23</td>\n    </tr>\n    <tr>\n      <th>3</th>\n      <td>t2_rnjzutp</td>\n      <td>their app. There's also a program called SYNC ...</td>\n      <td>2001</td>\n      <td>0</td>\n      <td>[their, app, ., There, ', s, also, a, program,...</td>\n      <td>1567</td>\n      <td>83</td>\n      <td>17.879518</td>\n      <td>{'PRP$': 44, 'NN': 233, '.': 83, 'EX': 5, ''''...</td>\n      <td>36</td>\n      <td>36</td>\n      <td>31</td>\n      <td>9</td>\n    </tr>\n    <tr>\n      <th>4</th>\n      <td>t2_rnjzutp</td>\n      <td>side. If the cops don't take your side, you'll...</td>\n      <td>2001</td>\n      <td>0</td>\n      <td>[side, ., If, the, cops, don, ', t, take, your...</td>\n      <td>1552</td>\n      <td>89</td>\n      <td>16.730337</td>\n      <td>{'NN': 246, '.': 88, 'IN': 175, 'DT': 125, 'NN...</td>\n      <td>47</td>\n      <td>43</td>\n      <td>34</td>\n      <td>23</td>\n    </tr>\n    <tr>\n      <th>...</th>\n      <td>...</td>\n      <td>...</td>\n      <td>...</td>\n      <td>...</td>\n      <td>...</td>\n      <td>...</td>\n      <td>...</td>\n      <td>...</td>\n      <td>...</td>\n      <td>...</td>\n      <td>...</td>\n      <td>...</td>\n      <td>...</td>\n    </tr>\n    <tr>\n      <th>25450</th>\n      <td>t2_ef4dv976</td>\n      <td>clever political meme on a sub about political...</td>\n      <td>1989</td>\n      <td>1</td>\n      <td>[clever, political, meme, on, a, sub, about, p...</td>\n      <td>1074</td>\n      <td>62</td>\n      <td>16.935484</td>\n      <td>{'RB': 49, 'JJ': 108, 'NN': 177, 'IN': 130, 'D...</td>\n      <td>21</td>\n      <td>23</td>\n      <td>18</td>\n      <td>18</td>\n    </tr>\n    <tr>\n      <th>25451</th>\n      <td>t2_7ps3a</td>\n      <td>Kevin. Glück gehabt. I will try! Thank you! I ...</td>\n      <td>1992</td>\n      <td>1</td>\n      <td>[Kevin, ., Glück, gehabt, ., I, will, try, !, ...</td>\n      <td>1484</td>\n      <td>122</td>\n      <td>11.926230</td>\n      <td>{'NNP': 273, '.': 127, 'NN': 484, 'PRP': 74, '...</td>\n      <td>20</td>\n      <td>29</td>\n      <td>16</td>\n      <td>9</td>\n    </tr>\n    <tr>\n      <th>25452</th>\n      <td>t2_7ps3a</td>\n      <td>Handy/der Cloud speichern und in der Kamera ha...</td>\n      <td>1992</td>\n      <td>1</td>\n      <td>[Handy, /, der, Cloud, speichern, und, in, der...</td>\n      <td>1490</td>\n      <td>108</td>\n      <td>13.407407</td>\n      <td>{'NNP': 307, 'NN': 451, 'IN': 89, 'JJ': 150, '...</td>\n      <td>18</td>\n      <td>19</td>\n      <td>5</td>\n      <td>4</td>\n    </tr>\n    <tr>\n      <th>25453</th>\n      <td>t2_7ps3a</td>\n      <td>that. :)) On Google I cant find much informati...</td>\n      <td>1992</td>\n      <td>1</td>\n      <td>[that, ., :, ), ), On, Google, I, cant, find, ...</td>\n      <td>1504</td>\n      <td>96</td>\n      <td>15.114583</td>\n      <td>{'DT': 14, '.': 98, ':': 59, ')': 14, 'IN': 52...</td>\n      <td>4</td>\n      <td>3</td>\n      <td>3</td>\n      <td>1</td>\n    </tr>\n    <tr>\n      <th>25454</th>\n      <td>t2_7ps3a</td>\n      <td>Liste eintragen lassen können, sobald sie vega...</td>\n      <td>1992</td>\n      <td>1</td>\n      <td>[Liste, eintragen, lassen, können, ,, sobald, ...</td>\n      <td>943</td>\n      <td>73</td>\n      <td>12.767123</td>\n      <td>{'NNP': 279, 'NN': 379, ',': 43, 'JJ': 151, 'I...</td>\n      <td>0</td>\n      <td>0</td>\n      <td>0</td>\n      <td>1</td>\n    </tr>\n  </tbody>\n</table>\n<p>25455 rows × 13 columns</p>\n</div>"
     },
     "execution_count": 16,
     "metadata": {},
     "output_type": "execute_result"
    }
   ],
   "source": [
    "# stopwords\n",
    "mil_and_genz['count_a'] = mil_and_genz.apply(count_occurrences, args=('a',), axis=1)\n",
    "mil_and_genz['count_and'] = mil_and_genz.apply(count_occurrences, args=('and',), axis=1)\n",
    "mil_and_genz['count_you'] = mil_and_genz.apply(count_occurrences, args=('you',), axis=1)\n",
    "mil_and_genz['count_is'] = mil_and_genz.apply(count_occurrences, args=('is',), axis=1)\n",
    "mil_and_genz"
   ],
   "metadata": {
    "collapsed": false,
    "pycharm": {
     "name": "#%%\n"
    }
   }
  },
  {
   "cell_type": "code",
   "execution_count": 17,
   "outputs": [],
   "source": [
    "# ‘a’, ‘and’, ‘you’, ‘is’, ‘?’, ‘ “ ‘, ‘/’, ‘#’, ‘!’"
   ],
   "metadata": {
    "collapsed": false,
    "pycharm": {
     "name": "#%%\n"
    }
   }
  },
  {
   "cell_type": "code",
   "execution_count": 18,
   "outputs": [
    {
     "data": {
      "text/plain": "         auhtor_ID                                               post  \\\n0       t2_rnjzutp  Good on you for being responsible! I know self...   \n1       t2_rnjzutp  must go to the grocery store with their child,...   \n2       t2_rnjzutp  things on her videos, and YouTube took the vid...   \n3       t2_rnjzutp  their app. There's also a program called SYNC ...   \n4       t2_rnjzutp  side. If the cops don't take your side, you'll...   \n...            ...                                                ...   \n25450  t2_ef4dv976  clever political meme on a sub about political...   \n25451     t2_7ps3a  Kevin. Glück gehabt. I will try! Thank you! I ...   \n25452     t2_7ps3a  Handy/der Cloud speichern und in der Kamera ha...   \n25453     t2_7ps3a  that. :)) On Google I cant find much informati...   \n25454     t2_7ps3a  Liste eintragen lassen können, sobald sie vega...   \n\n       birth_year  binary_birth_year  \\\n0            2001                  0   \n1            2001                  0   \n2            2001                  0   \n3            2001                  0   \n4            2001                  0   \n...           ...                ...   \n25450        1989                  1   \n25451        1992                  1   \n25452        1992                  1   \n25453        1992                  1   \n25454        1992                  1   \n\n                                          post_tokenized  doc_length  nr_sent  \\\n0      [Good, on, you, for, being, responsible, !, I,...        1550       79   \n1      [must, go, to, the, grocery, store, with, thei...        1560       95   \n2      [things, on, her, videos, ,, and, YouTube, too...        1542       83   \n3      [their, app, ., There, ', s, also, a, program,...        1567       83   \n4      [side, ., If, the, cops, don, ', t, take, your...        1552       89   \n...                                                  ...         ...      ...   \n25450  [clever, political, meme, on, a, sub, about, p...        1074       62   \n25451  [Kevin, ., Glück, gehabt, ., I, will, try, !, ...        1484      122   \n25452  [Handy, /, der, Cloud, speichern, und, in, der...        1490      108   \n25453  [that, ., :, ), ), On, Google, I, cant, find, ...        1504       96   \n25454  [Liste, eintragen, lassen, können, ,, sobald, ...         943       73   \n\n       avg_sentence_length                                           pos_tags  \\\n0                18.746835  {'JJ': 104, 'IN': 172, 'PRP': 133, 'VBG': 48, ...   \n1                15.694737  {'MD': 30, 'VB': 104, 'TO': 53, 'DT': 129, 'NN...   \n2                17.879518  {'NNS': 86, 'IN': 169, 'PRP$': 55, 'NN': 223, ...   \n3                17.879518  {'PRP$': 44, 'NN': 233, '.': 83, 'EX': 5, ''''...   \n4                16.730337  {'NN': 246, '.': 88, 'IN': 175, 'DT': 125, 'NN...   \n...                    ...                                                ...   \n25450            16.935484  {'RB': 49, 'JJ': 108, 'NN': 177, 'IN': 130, 'D...   \n25451            11.926230  {'NNP': 273, '.': 127, 'NN': 484, 'PRP': 74, '...   \n25452            13.407407  {'NNP': 307, 'NN': 451, 'IN': 89, 'JJ': 150, '...   \n25453            15.114583  {'DT': 14, '.': 98, ':': 59, ')': 14, 'IN': 52...   \n25454            12.767123  {'NNP': 279, 'NN': 379, ',': 43, 'JJ': 151, 'I...   \n\n       count_a  count_and  count_you  count_is  count_?  count_\"  count_/  \\\n0           31         43         20        28        2       12        8   \n1           24         54         31        17        8       18        5   \n2           33         42         41        23        3        4        7   \n3           36         36         31         9        0        8        7   \n4           47         43         34        23        2        6        5   \n...        ...        ...        ...       ...      ...      ...      ...   \n25450       21         23         18        18        5        0        9   \n25451       20         29         16         9       11       40        3   \n25452       18         19          5         4        9       22        7   \n25453        4          3          3         1        6       30        7   \n25454        0          0          0         1       10       18        0   \n\n       count_#  count_!  \n0            0        2  \n1            0        3  \n2            0        0  \n3            0        4  \n4            0        2  \n...        ...      ...  \n25450        0       15  \n25451        0       12  \n25452        0       10  \n25453        0       10  \n25454        0        8  \n\n[25455 rows x 18 columns]",
      "text/html": "<div>\n<style scoped>\n    .dataframe tbody tr th:only-of-type {\n        vertical-align: middle;\n    }\n\n    .dataframe tbody tr th {\n        vertical-align: top;\n    }\n\n    .dataframe thead th {\n        text-align: right;\n    }\n</style>\n<table border=\"1\" class=\"dataframe\">\n  <thead>\n    <tr style=\"text-align: right;\">\n      <th></th>\n      <th>auhtor_ID</th>\n      <th>post</th>\n      <th>birth_year</th>\n      <th>binary_birth_year</th>\n      <th>post_tokenized</th>\n      <th>doc_length</th>\n      <th>nr_sent</th>\n      <th>avg_sentence_length</th>\n      <th>pos_tags</th>\n      <th>count_a</th>\n      <th>count_and</th>\n      <th>count_you</th>\n      <th>count_is</th>\n      <th>count_?</th>\n      <th>count_\"</th>\n      <th>count_/</th>\n      <th>count_#</th>\n      <th>count_!</th>\n    </tr>\n  </thead>\n  <tbody>\n    <tr>\n      <th>0</th>\n      <td>t2_rnjzutp</td>\n      <td>Good on you for being responsible! I know self...</td>\n      <td>2001</td>\n      <td>0</td>\n      <td>[Good, on, you, for, being, responsible, !, I,...</td>\n      <td>1550</td>\n      <td>79</td>\n      <td>18.746835</td>\n      <td>{'JJ': 104, 'IN': 172, 'PRP': 133, 'VBG': 48, ...</td>\n      <td>31</td>\n      <td>43</td>\n      <td>20</td>\n      <td>28</td>\n      <td>2</td>\n      <td>12</td>\n      <td>8</td>\n      <td>0</td>\n      <td>2</td>\n    </tr>\n    <tr>\n      <th>1</th>\n      <td>t2_rnjzutp</td>\n      <td>must go to the grocery store with their child,...</td>\n      <td>2001</td>\n      <td>0</td>\n      <td>[must, go, to, the, grocery, store, with, thei...</td>\n      <td>1560</td>\n      <td>95</td>\n      <td>15.694737</td>\n      <td>{'MD': 30, 'VB': 104, 'TO': 53, 'DT': 129, 'NN...</td>\n      <td>24</td>\n      <td>54</td>\n      <td>31</td>\n      <td>17</td>\n      <td>8</td>\n      <td>18</td>\n      <td>5</td>\n      <td>0</td>\n      <td>3</td>\n    </tr>\n    <tr>\n      <th>2</th>\n      <td>t2_rnjzutp</td>\n      <td>things on her videos, and YouTube took the vid...</td>\n      <td>2001</td>\n      <td>0</td>\n      <td>[things, on, her, videos, ,, and, YouTube, too...</td>\n      <td>1542</td>\n      <td>83</td>\n      <td>17.879518</td>\n      <td>{'NNS': 86, 'IN': 169, 'PRP$': 55, 'NN': 223, ...</td>\n      <td>33</td>\n      <td>42</td>\n      <td>41</td>\n      <td>23</td>\n      <td>3</td>\n      <td>4</td>\n      <td>7</td>\n      <td>0</td>\n      <td>0</td>\n    </tr>\n    <tr>\n      <th>3</th>\n      <td>t2_rnjzutp</td>\n      <td>their app. There's also a program called SYNC ...</td>\n      <td>2001</td>\n      <td>0</td>\n      <td>[their, app, ., There, ', s, also, a, program,...</td>\n      <td>1567</td>\n      <td>83</td>\n      <td>17.879518</td>\n      <td>{'PRP$': 44, 'NN': 233, '.': 83, 'EX': 5, ''''...</td>\n      <td>36</td>\n      <td>36</td>\n      <td>31</td>\n      <td>9</td>\n      <td>0</td>\n      <td>8</td>\n      <td>7</td>\n      <td>0</td>\n      <td>4</td>\n    </tr>\n    <tr>\n      <th>4</th>\n      <td>t2_rnjzutp</td>\n      <td>side. If the cops don't take your side, you'll...</td>\n      <td>2001</td>\n      <td>0</td>\n      <td>[side, ., If, the, cops, don, ', t, take, your...</td>\n      <td>1552</td>\n      <td>89</td>\n      <td>16.730337</td>\n      <td>{'NN': 246, '.': 88, 'IN': 175, 'DT': 125, 'NN...</td>\n      <td>47</td>\n      <td>43</td>\n      <td>34</td>\n      <td>23</td>\n      <td>2</td>\n      <td>6</td>\n      <td>5</td>\n      <td>0</td>\n      <td>2</td>\n    </tr>\n    <tr>\n      <th>...</th>\n      <td>...</td>\n      <td>...</td>\n      <td>...</td>\n      <td>...</td>\n      <td>...</td>\n      <td>...</td>\n      <td>...</td>\n      <td>...</td>\n      <td>...</td>\n      <td>...</td>\n      <td>...</td>\n      <td>...</td>\n      <td>...</td>\n      <td>...</td>\n      <td>...</td>\n      <td>...</td>\n      <td>...</td>\n      <td>...</td>\n    </tr>\n    <tr>\n      <th>25450</th>\n      <td>t2_ef4dv976</td>\n      <td>clever political meme on a sub about political...</td>\n      <td>1989</td>\n      <td>1</td>\n      <td>[clever, political, meme, on, a, sub, about, p...</td>\n      <td>1074</td>\n      <td>62</td>\n      <td>16.935484</td>\n      <td>{'RB': 49, 'JJ': 108, 'NN': 177, 'IN': 130, 'D...</td>\n      <td>21</td>\n      <td>23</td>\n      <td>18</td>\n      <td>18</td>\n      <td>5</td>\n      <td>0</td>\n      <td>9</td>\n      <td>0</td>\n      <td>15</td>\n    </tr>\n    <tr>\n      <th>25451</th>\n      <td>t2_7ps3a</td>\n      <td>Kevin. Glück gehabt. I will try! Thank you! I ...</td>\n      <td>1992</td>\n      <td>1</td>\n      <td>[Kevin, ., Glück, gehabt, ., I, will, try, !, ...</td>\n      <td>1484</td>\n      <td>122</td>\n      <td>11.926230</td>\n      <td>{'NNP': 273, '.': 127, 'NN': 484, 'PRP': 74, '...</td>\n      <td>20</td>\n      <td>29</td>\n      <td>16</td>\n      <td>9</td>\n      <td>11</td>\n      <td>40</td>\n      <td>3</td>\n      <td>0</td>\n      <td>12</td>\n    </tr>\n    <tr>\n      <th>25452</th>\n      <td>t2_7ps3a</td>\n      <td>Handy/der Cloud speichern und in der Kamera ha...</td>\n      <td>1992</td>\n      <td>1</td>\n      <td>[Handy, /, der, Cloud, speichern, und, in, der...</td>\n      <td>1490</td>\n      <td>108</td>\n      <td>13.407407</td>\n      <td>{'NNP': 307, 'NN': 451, 'IN': 89, 'JJ': 150, '...</td>\n      <td>18</td>\n      <td>19</td>\n      <td>5</td>\n      <td>4</td>\n      <td>9</td>\n      <td>22</td>\n      <td>7</td>\n      <td>0</td>\n      <td>10</td>\n    </tr>\n    <tr>\n      <th>25453</th>\n      <td>t2_7ps3a</td>\n      <td>that. :)) On Google I cant find much informati...</td>\n      <td>1992</td>\n      <td>1</td>\n      <td>[that, ., :, ), ), On, Google, I, cant, find, ...</td>\n      <td>1504</td>\n      <td>96</td>\n      <td>15.114583</td>\n      <td>{'DT': 14, '.': 98, ':': 59, ')': 14, 'IN': 52...</td>\n      <td>4</td>\n      <td>3</td>\n      <td>3</td>\n      <td>1</td>\n      <td>6</td>\n      <td>30</td>\n      <td>7</td>\n      <td>0</td>\n      <td>10</td>\n    </tr>\n    <tr>\n      <th>25454</th>\n      <td>t2_7ps3a</td>\n      <td>Liste eintragen lassen können, sobald sie vega...</td>\n      <td>1992</td>\n      <td>1</td>\n      <td>[Liste, eintragen, lassen, können, ,, sobald, ...</td>\n      <td>943</td>\n      <td>73</td>\n      <td>12.767123</td>\n      <td>{'NNP': 279, 'NN': 379, ',': 43, 'JJ': 151, 'I...</td>\n      <td>0</td>\n      <td>0</td>\n      <td>0</td>\n      <td>1</td>\n      <td>10</td>\n      <td>18</td>\n      <td>0</td>\n      <td>0</td>\n      <td>8</td>\n    </tr>\n  </tbody>\n</table>\n<p>25455 rows × 18 columns</p>\n</div>"
     },
     "execution_count": 18,
     "metadata": {},
     "output_type": "execute_result"
    }
   ],
   "source": [
    "# punctuation\n",
    "mil_and_genz['count_?'] = mil_and_genz.apply(count_occurrences, args=('?',), axis=1)\n",
    "mil_and_genz['count_\"'] = mil_and_genz.apply(count_occurrences, args=('\"',), axis=1)\n",
    "mil_and_genz['count_/'] = mil_and_genz.apply(count_occurrences, args=('/',), axis=1)\n",
    "mil_and_genz['count_#'] = mil_and_genz.apply(count_occurrences, args=('#',), axis=1)\n",
    "mil_and_genz['count_!'] = mil_and_genz.apply(count_occurrences, args=('!',), axis=1)\n",
    "mil_and_genz"
   ],
   "metadata": {
    "collapsed": false,
    "pycharm": {
     "name": "#%%\n"
    }
   }
  },
  {
   "cell_type": "code",
   "execution_count": null,
   "outputs": [],
   "source": [],
   "metadata": {
    "collapsed": false,
    "pycharm": {
     "name": "#%%\n"
    }
   }
  }
 ],
 "metadata": {
  "kernelspec": {
   "display_name": "Python 3",
   "language": "python",
   "name": "python3"
  },
  "language_info": {
   "codemirror_mode": {
    "name": "ipython",
    "version": 2
   },
   "file_extension": ".py",
   "mimetype": "text/x-python",
   "name": "python",
   "nbconvert_exporter": "python",
   "pygments_lexer": "ipython2",
   "version": "2.7.6"
  }
 },
 "nbformat": 4,
 "nbformat_minor": 0
}